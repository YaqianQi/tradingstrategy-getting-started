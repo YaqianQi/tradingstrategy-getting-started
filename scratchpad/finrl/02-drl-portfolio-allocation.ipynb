{
 "cells": [
  {
   "cell_type": "markdown",
   "metadata": {},
   "source": [
    "# DRL portfolio allocation example\n",
    "\n",
    "- Based on FinRL documentation\n",
    "- cleaned up"
   ]
  },
  {
   "cell_type": "markdown",
   "metadata": {},
   "source": [
    "# Preface\n",
    "\n",
    "Needed Python packages\n",
    "\n",
    "- finrl\n",
    "- gymnasium\n",
    "- stable-baselines3[extra]"
   ]
  },
  {
   "cell_type": "markdown",
   "metadata": {
    "vscode": {
     "languageId": "plaintext"
    }
   },
   "source": [
    "# Parameters"
   ]
  },
  {
   "cell_type": "code",
   "execution_count": 1,
   "metadata": {},
   "outputs": [],
   "source": [
    "import os\n",
    "from pathlib import Path\n",
    "\n",
    "# config = dynamic_import(\"config\", CURRENT_PATH + \"/config.py\")\n",
    "# config_tickers = dynamic_import(\"config_tickers\", CURRENT_PATH + \"/config_tickers.py\")\n",
    "\n",
    "DATA_FILE = Path(\"/tmp/yahoo-dow-jones-index.csv\")\n",
    "TRAINED_MODEL_FILE = Path(\"/tmp/yahoo-dow-jones-index-model.pkl\")\n",
    "\n",
    "\n",
    "DOW_30_TICKER = [\n",
    "    \"AXP\",\n",
    "    \"AMGN\",\n",
    "    \"AAPL\",\n",
    "    \"BA\",\n",
    "    \"CAT\",\n",
    "    \"CSCO\",\n",
    "    \"CVX\",\n",
    "    \"GS\",\n",
    "    \"HD\",\n",
    "    \"HON\",\n",
    "    \"IBM\",\n",
    "    \"INTC\",\n",
    "    \"JNJ\",\n",
    "    \"KO\",\n",
    "    \"JPM\",\n",
    "    \"MCD\",\n",
    "    \"MMM\",\n",
    "    \"MRK\",\n",
    "    \"MSFT\",\n",
    "    \"NKE\",\n",
    "    \"PG\",\n",
    "    \"TRV\",\n",
    "    \"UNH\",\n",
    "    \"CRM\",\n",
    "    \"VZ\",\n",
    "    \"V\",\n",
    "    \"WBA\",\n",
    "    \"WMT\",\n",
    "    \"DIS\",\n",
    "    \"DOW\",\n",
    "]\n"
   ]
  },
  {
   "cell_type": "markdown",
   "metadata": {},
   "source": [
    "# Download and setup trading universe"
   ]
  },
  {
   "cell_type": "code",
   "execution_count": 2,
   "metadata": {},
   "outputs": [
    {
     "ename": "ModuleNotFoundError",
     "evalue": "No module named 'finrl'",
     "output_type": "error",
     "traceback": [
      "\u001b[0;31m---------------------------------------------------------------------------\u001b[0m",
      "\u001b[0;31mModuleNotFoundError\u001b[0m                       Traceback (most recent call last)",
      "Cell \u001b[0;32mIn[2], line 3\u001b[0m\n\u001b[1;32m      1\u001b[0m \u001b[38;5;28;01mimport\u001b[39;00m \u001b[38;5;21;01mpandas\u001b[39;00m \u001b[38;5;28;01mas\u001b[39;00m \u001b[38;5;21;01mpd\u001b[39;00m\n\u001b[0;32m----> 3\u001b[0m \u001b[38;5;28;01mfrom\u001b[39;00m \u001b[38;5;21;01mfinrl\u001b[39;00m\u001b[38;5;21;01m.\u001b[39;00m\u001b[38;5;21;01mmarketdata\u001b[39;00m\u001b[38;5;21;01m.\u001b[39;00m\u001b[38;5;21;01myahoodownloader\u001b[39;00m \u001b[38;5;28;01mimport\u001b[39;00m YahooDownloader\n\u001b[1;32m      4\u001b[0m \u001b[38;5;28;01mfrom\u001b[39;00m \u001b[38;5;21;01mfinrl\u001b[39;00m\u001b[38;5;21;01m.\u001b[39;00m\u001b[38;5;21;01mpreprocessing\u001b[39;00m\u001b[38;5;21;01m.\u001b[39;00m\u001b[38;5;21;01mpreprocessors\u001b[39;00m \u001b[38;5;28;01mimport\u001b[39;00m FeatureEngineer\n\u001b[1;32m      7\u001b[0m \u001b[38;5;28;01mdef\u001b[39;00m \u001b[38;5;21msetup_data\u001b[39m(fname: Path\u001b[38;5;241m=\u001b[39mDATA_FILE) \u001b[38;5;241m-\u001b[39m\u001b[38;5;241m>\u001b[39m pd\u001b[38;5;241m.\u001b[39mDataFrame:\n\u001b[1;32m      8\u001b[0m     \u001b[38;5;66;03m# Download and save the data in a pandas DataFrame:\u001b[39;00m\n",
      "\u001b[0;31mModuleNotFoundError\u001b[0m: No module named 'finrl'"
     ]
    }
   ],
   "source": [
    "import pandas as pd\n",
    "\n",
    "from finrl.marketdata.yahoodownloader import YahooDownloader\n",
    "from finrl.preprocessing.preprocessors import FeatureEngineer\n",
    "\n",
    "\n",
    "def setup_data(fname: Path=DATA_FILE) -> pd.DataFrame:\n",
    "    # Download and save the data in a pandas DataFrame:\n",
    "    if not fname.exists():\n",
    "        data_df = YahooDownloader(start_date = '2008-01-01', end_date = '2020-12-01', ticker_list=DOW_30_TICKER).fetch_data()\n",
    "        data_df.to_csv(fname)\n",
    "    else:\n",
    "        data_df = pd.read_csv(fname)\n",
    "\n",
    "    #  Perform Feature Engineering\n",
    "    df = FeatureEngineer(\n",
    "        data_df.copy(),\n",
    "        use_technical_indicator=True,\n",
    "        use_turbulence=False\n",
    "    ).preprocess_data()\n",
    "\n",
    "    # add covariance matrix as states\n",
    "    df = df.sort_values(['date','tic'],ignore_index=True)\n",
    "    df.index = df.date.factorize()[0]\n",
    "\n",
    "    cov_list = []\n",
    "\n",
    "    # look back is one year\n",
    "    lookback=252\n",
    "\n",
    "    for i in range(lookback,len(df.index.unique())):\n",
    "        data_lookback = df.loc[i-lookback:i,:]\n",
    "        price_lookback=data_lookback.pivot_table(index = 'date',columns = 'tic', values = 'close')\n",
    "        return_lookback = price_lookback.pct_change().dropna()\n",
    "        covs = return_lookback.cov().values\n",
    "        cov_list.append(covs)\n",
    "\n",
    "    df_cov = pd.DataFrame({'date':df.date.unique()[lookback:],'cov_list':cov_list})\n",
    "    df = df.merge(df_cov, on='date')\n",
    "    df = df.sort_values(['date','tic']).reset_index(drop=True)\n",
    "    return df \n",
    "\n",
    "df = setup_data()\n",
    "display(df)\n"
   ]
  },
  {
   "cell_type": "markdown",
   "metadata": {},
   "source": [
    "# Train"
   ]
  }
 ],
 "metadata": {
  "kernelspec": {
   "display_name": "trading-strategy-getting-started-CRdZaTBS-py3.11",
   "language": "python",
   "name": "python3"
  },
  "language_info": {
   "codemirror_mode": {
    "name": "ipython",
    "version": 3
   },
   "file_extension": ".py",
   "mimetype": "text/x-python",
   "name": "python",
   "nbconvert_exporter": "python",
   "pygments_lexer": "ipython3",
   "version": "3.11.10"
  }
 },
 "nbformat": 4,
 "nbformat_minor": 2
}
