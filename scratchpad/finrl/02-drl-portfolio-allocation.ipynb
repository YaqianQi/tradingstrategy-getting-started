{
 "cells": [
  {
   "cell_type": "markdown",
   "metadata": {},
   "source": [
    "# DRL portfolio allocation example\n",
    "\n",
    "- Based on FinRL documentation\n",
    "- cleaned up"
   ]
  },
  {
   "cell_type": "markdown",
   "metadata": {},
   "source": [
    "# Preface\n",
    "\n",
    "Needed Python packages\n",
    "\n",
    "- finrl\n",
    "- gymnasium\n",
    "- stable-baselines3[extra]\n",
    "- exchange-calendars\n",
    "- stockstats\n",
    "- wrds"
   ]
  },
  {
   "cell_type": "markdown",
   "metadata": {
    "vscode": {
     "languageId": "plaintext"
    }
   },
   "source": [
    "# Parameters\n",
    "\n",
    "- In this section configure the parameters for this backtest"
   ]
  },
  {
   "cell_type": "code",
   "execution_count": 5,
   "metadata": {},
   "outputs": [
    {
     "data": {
      "text/plain": [
       "''"
      ]
     },
     "execution_count": 5,
     "metadata": {},
     "output_type": "execute_result"
    }
   ],
   "source": [
    "import os\n",
    "from pathlib import Path\n",
    "\n",
    "# config = dynamic_import(\"config\", CURRENT_PATH + \"/config.py\")\n",
    "# config_tickers = dynamic_import(\"config_tickers\", CURRENT_PATH + \"/config_tickers.py\")\n",
    "\n",
    "PREPARED_DATA_FILE = Path(\"/tmp/finrl-demo.parquet\")\n",
    "TRAINED_MODEL_FILE = Path(\"/tmp/yahoo-dow-jones-index-model.pkl\")\n",
    "\n",
    "# Asset universe we use\n",
    "DOW_30_TICKER = [\n",
    "    \"AXP\",\n",
    "    \"AMGN\",\n",
    "    \"AAPL\",\n",
    "    \"BA\",\n",
    "    \"CAT\",\n",
    "    \"CSCO\",\n",
    "    \"CVX\",\n",
    "    \"GS\",\n",
    "    \"HD\",\n",
    "    \"HON\",\n",
    "    \"IBM\",\n",
    "    \"INTC\",\n",
    "    \"JNJ\",\n",
    "    \"KO\",\n",
    "    \"JPM\",\n",
    "    \"MCD\",\n",
    "    \"MMM\",\n",
    "    \"MRK\",\n",
    "    \"MSFT\",\n",
    "    \"NKE\",\n",
    "    \"PG\",\n",
    "    \"TRV\",\n",
    "    \"UNH\",\n",
    "    \"CRM\",\n",
    "    \"VZ\",\n",
    "    \"V\",\n",
    "    \"WBA\",\n",
    "    \"WMT\",\n",
    "    \"DIS\",\n",
    "    \"DOW\",\n",
    "]\n",
    "\n",
    "INDICATORS = [\n",
    "    \"macd\",\n",
    "    \"boll_ub\",\n",
    "    \"boll_lb\",\n",
    "    \"rsi_30\",\n",
    "    \"cci_30\",\n",
    "    \"dx_30\",\n",
    "    \"close_30_sma\",\n",
    "    \"close_60_sma\",\n",
    "]\n",
    "\n",
    "\n",
    "START_DATE = \"2010-01-01\"\n",
    "\n",
    "TRAIN_START_DATE = \"2014-01-01\"\n",
    "TRAIN_END_DATE = \"2020-07-31\"\n",
    "\n",
    "TEST_START_DATE = \"2020-08-01\"\n",
    "TEST_END_DATE = \"2021-10-01\"\n",
    "\n",
    "TRADE_START_DATE = \"2021-11-01\"\n",
    "TRADE_END_DATE = \"2021-12-01\"\n",
    "\n"
   ]
  },
  {
   "cell_type": "markdown",
   "metadata": {},
   "source": [
    "# Download and setup trading universe"
   ]
  },
  {
   "cell_type": "code",
   "execution_count": 6,
   "metadata": {},
   "outputs": [
    {
     "ename": "ModuleNotFoundError",
     "evalue": "No module named 'agents'",
     "output_type": "error",
     "traceback": [
      "\u001b[0;31m---------------------------------------------------------------------------\u001b[0m",
      "\u001b[0;31mModuleNotFoundError\u001b[0m                       Traceback (most recent call last)",
      "Cell \u001b[0;32mIn[6], line 6\u001b[0m\n\u001b[1;32m      3\u001b[0m \u001b[38;5;28;01mimport\u001b[39;00m\u001b[38;5;250m \u001b[39m\u001b[38;5;21;01mpandas\u001b[39;00m\u001b[38;5;250m \u001b[39m\u001b[38;5;28;01mas\u001b[39;00m\u001b[38;5;250m \u001b[39m\u001b[38;5;21;01mpd\u001b[39;00m\n\u001b[1;32m      4\u001b[0m \u001b[38;5;28;01mfrom\u001b[39;00m\u001b[38;5;250m \u001b[39m\u001b[38;5;21;01mstable_baselines3\u001b[39;00m\u001b[38;5;250m \u001b[39m\u001b[38;5;28;01mimport\u001b[39;00m A2C\n\u001b[0;32m----> 6\u001b[0m \u001b[38;5;28;01mfrom\u001b[39;00m\u001b[38;5;250m \u001b[39m\u001b[38;5;21;01magents\u001b[39;00m\u001b[38;5;21;01m.\u001b[39;00m\u001b[38;5;21;01mstablebaselines3_models\u001b[39;00m\u001b[38;5;250m \u001b[39m\u001b[38;5;28;01mimport\u001b[39;00m DRLAgent\n\u001b[1;32m      7\u001b[0m \u001b[38;5;28;01mfrom\u001b[39;00m\u001b[38;5;250m \u001b[39m\u001b[38;5;21;01mmeta\u001b[39;00m\u001b[38;5;250m \u001b[39m\u001b[38;5;28;01mimport\u001b[39;00m config\n\u001b[1;32m      8\u001b[0m \u001b[38;5;28;01mfrom\u001b[39;00m\u001b[38;5;250m \u001b[39m\u001b[38;5;21;01mmeta\u001b[39;00m\u001b[38;5;250m \u001b[39m\u001b[38;5;28;01mimport\u001b[39;00m config_tickers\n",
      "\u001b[0;31mModuleNotFoundError\u001b[0m: No module named 'agents'"
     ]
    }
   ],
   "source": [
    "import os\n",
    "\n",
    "import pandas as pd\n",
    "from stable_baselines3 import A2C\n",
    "\n",
    "from agents.stablebaselines3_models import DRLAgent\n",
    "from meta import config\n",
    "from meta import config_tickers\n",
    "from meta.data_processor import DataProcessor\n",
    "from meta.env_portfolio_allocation.env_portfolio_yahoofinance import StockPortfolioEnv\n",
    "\n",
    "\n",
    "\n",
    "def setup_data(\n",
    "    start_date=TRAIN_START_DATE,\n",
    "    end_date=TRADE_END_DATE,\n",
    "    ticker_list=DOW_30_TICKER,\n",
    "    time_interval=\"1D\",\n",
    "    data_source=\"yahoofinance\",\n",
    "    technical_indicator_list=INDICATORS,\n",
    "    if_vix=True,\n",
    "    hmax=100,\n",
    "    initial_amount=1000000,\n",
    "    transaction_cost_pct=0.001,\n",
    "    reward_scaling=1e-4,\n",
    "    use_cached_model=False,\n",
    ") -> pd.DataFrame:\n",
    "    \n",
    "    # Cache prepared data locally\n",
    "    if PREPARED_DATA_FILE.exists():\n",
    "        print(f\"Using cached data from {PREPARED_DATA_FILE}\")\n",
    "        df = pd.read_parquet(PREPARED_DATA_FILE)\n",
    "        return df\n",
    "\n",
    "    # download data\n",
    "    dp = DataProcessor(\n",
    "        data_source=data_source,\n",
    "        start_date=start_date,\n",
    "        end_date=end_date,\n",
    "        time_interval=time_interval,\n",
    "    )\n",
    "\n",
    "    price_array, tech_array, turbulence_array = dp.run(\n",
    "        ticker_list,\n",
    "        technical_indicator_list,\n",
    "        if_vix=if_vix,\n",
    "        cache=True,\n",
    "        select_stockstats_talib=0,\n",
    "    )\n",
    "\n",
    "    # add covariance matrix as states\n",
    "    df = dp.dataframe\n",
    "    df = df.sort_values([\"time\", \"tic\"], ignore_index=True)\n",
    "    df.index = df.time.factorize()[0]\n",
    "\n",
    "    df[\"pct_change\"] = df.groupby(\"tic\").close.pct_change()\n",
    "\n",
    "    cov_list = []\n",
    "    # look back is one year\n",
    "    lookback = 252\n",
    "    for i in range(lookback, len(df.index.unique())):\n",
    "        data_lookback = df.loc[i - lookback : i, :]\n",
    "        price_lookback = data_lookback.pivot_table(\n",
    "            index=\"time\", columns=\"tic\", values=\"close\"\n",
    "        )\n",
    "        return_lookback = price_lookback.pct_change().dropna()\n",
    "        covs = return_lookback.cov().values\n",
    "        cov_list.append(covs)\n",
    "    # df[\"mean_pct_change_lookback\"] = df.rolling(lookback)[\"pct_change\"].mean()\n",
    "    # df[\"ewm_returns\"] = df[\"pct_change\"].ewm(span=50).mean()\n",
    "    df_cov = pd.DataFrame({\"time\": df.time.unique()[lookback:], \"cov_list\": cov_list})\n",
    "    df = df.merge(df_cov, on=\"time\")\n",
    "    df = df.sort_values([\"time\", \"tic\"]).reset_index(drop=True)\n",
    "\n",
    "    print(\"Saving prepared data to\", PREPARED_DATA_FILE)\n",
    "    print(\"Columns are\", df.columns)\n",
    "    df.write.parquet(PREPARED_DATA_FILE)\n",
    "\n",
    "    return df\n",
    "\n",
    "    \n",
    "\n",
    "df = setup_data()\n",
    "\n",
    "print(\"Prepared data is:\")\n",
    "display(df)\n"
   ]
  },
  {
   "cell_type": "markdown",
   "metadata": {},
   "source": [
    "# Train"
   ]
  }
 ],
 "metadata": {
  "kernelspec": {
   "display_name": ".venv",
   "language": "python",
   "name": "python3"
  },
  "language_info": {
   "codemirror_mode": {
    "name": "ipython",
    "version": 3
   },
   "file_extension": ".py",
   "mimetype": "text/x-python",
   "name": "python",
   "nbconvert_exporter": "python",
   "pygments_lexer": "ipython3",
   "version": "3.11.10"
  }
 },
 "nbformat": 4,
 "nbformat_minor": 2
}
