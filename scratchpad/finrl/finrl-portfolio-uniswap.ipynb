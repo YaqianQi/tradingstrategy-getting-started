{
 "cells": [
  {
   "cell_type": "markdown",
   "metadata": {
    "id": "3xt6fIDownZs"
   },
   "source": [
    "# Uniswap v2 and v3 portfolio optimisation example\n",
    "\n",
    "- See `prefilter-finrl` on how to build the dataset\n",
    "- [We hand pick 4 pairs because of missing data issues](https://github.com/AI4Finance-Foundation/FinRL/discussions/1314)\n"
   ]
  },
  {
   "cell_type": "markdown",
   "metadata": {
    "id": "Q0L7FZeWMUHp"
   },
   "source": [
    "## Installation and imports\n",
    "\n",
    "To run this notebook in google colab, uncomment the cells below."
   ]
  },
  {
   "cell_type": "markdown",
   "metadata": {
    "id": "Cz8DLleGz_TF"
   },
   "source": [
    "#### Import the necessary code libraries"
   ]
  },
  {
   "cell_type": "code",
   "execution_count": 50,
   "metadata": {
    "colab": {
     "base_uri": "https://localhost:8080/"
    },
    "id": "cP5t6U7-nYoc",
    "outputId": "fd138d3e-222a-4ec5-e008-03a28b89dae9"
   },
   "outputs": [
    {
     "name": "stdout",
     "output_type": "stream",
     "text": [
      "Starting ok\n"
     ]
    }
   ],
   "source": [
    "import torch\n",
    "\n",
    "import numpy as np\n",
    "\n",
    "from sklearn.preprocessing import MaxAbsScaler\n",
    "\n",
    "from finrl.meta.preprocessor.yahoodownloader import YahooDownloader\n",
    "from finrl.meta.preprocessor.preprocessors import GroupByScaler\n",
    "from finrl.meta.env_portfolio_optimization.env_portfolio_optimization import PortfolioOptimizationEnv\n",
    "from finrl.agents.portfolio_optimization.models import DRLAgent\n",
    "from finrl.agents.portfolio_optimization.architectures import EIIE\n",
    "\n",
    "device = 'cuda:0' if torch.cuda.is_available() else 'cpu'\n",
    "\n",
    "print(\"Starting ok\")"
   ]
  },
  {
   "cell_type": "markdown",
   "metadata": {
    "id": "TY2yhvpASEyo"
   },
   "source": [
    "## Fetch data\n",
    "\n",
    "In his paper, *Jiang et al* creates a portfolio composed by the top-11 cryptocurrencies based on 30-days volume. Since it's not specified when this classification was done, it's difficult to reproduce, so we will use a similar approach in the Brazillian stock market:\n",
    "\n",
    "- We select top-10 stocks from Brazillian stock market;\n",
    "- For simplicity, we disconsider stocks that have missing data for the days in period 2011-01-01 to 2019-12-31 (9 years);"
   ]
  },
  {
   "cell_type": "code",
   "execution_count": 51,
   "metadata": {
    "colab": {
     "base_uri": "https://localhost:8080/",
     "height": 623
    },
    "id": "Bkm96aNsSIji",
    "outputId": "e3a20095-841e-4c89-c08e-24b9575cfb02"
   },
   "outputs": [
    {
     "name": "stdout",
     "output_type": "stream",
     "text": [
      "Started Trading Strategy in Jupyter notebook environment, configuration is stored in /Users/moo/.tradingstrategy\n",
      "We have total 141 pairs\n",
      "Timestamp range 2023-01-01 00:00:00 - 2025-01-01 00:00:00\n"
     ]
    },
    {
     "data": {
      "text/html": [
       "<div>\n",
       "<style scoped>\n",
       "    .dataframe tbody tr th:only-of-type {\n",
       "        vertical-align: middle;\n",
       "    }\n",
       "\n",
       "    .dataframe tbody tr th {\n",
       "        vertical-align: top;\n",
       "    }\n",
       "\n",
       "    .dataframe thead th {\n",
       "        text-align: right;\n",
       "    }\n",
       "</style>\n",
       "<table border=\"1\" class=\"dataframe\">\n",
       "  <thead>\n",
       "    <tr style=\"text-align: right;\">\n",
       "      <th></th>\n",
       "      <th>pair_id</th>\n",
       "      <th>timestamp</th>\n",
       "      <th>open</th>\n",
       "      <th>high</th>\n",
       "      <th>low</th>\n",
       "      <th>close</th>\n",
       "      <th>volume</th>\n",
       "      <th>tvl</th>\n",
       "      <th>ticker</th>\n",
       "      <th>dex</th>\n",
       "      <th>fee</th>\n",
       "    </tr>\n",
       "  </thead>\n",
       "  <tbody>\n",
       "    <tr>\n",
       "      <th>0</th>\n",
       "      <td>1</td>\n",
       "      <td>2023-01-01</td>\n",
       "      <td>1197.048924</td>\n",
       "      <td>1202.559108</td>\n",
       "      <td>1191.927648</td>\n",
       "      <td>1201.429627</td>\n",
       "      <td>6.921068e+05</td>\n",
       "      <td>3.661880e+07</td>\n",
       "      <td>WETH-USDC-v2-30</td>\n",
       "      <td>uniswap_v2</td>\n",
       "      <td>30</td>\n",
       "    </tr>\n",
       "    <tr>\n",
       "      <th>27816</th>\n",
       "      <td>2700159</td>\n",
       "      <td>2023-01-01</td>\n",
       "      <td>1187.308405</td>\n",
       "      <td>1192.707866</td>\n",
       "      <td>1183.779325</td>\n",
       "      <td>1190.949979</td>\n",
       "      <td>3.050945e+05</td>\n",
       "      <td>4.296140e+07</td>\n",
       "      <td>sETH2-WETH-v3-30</td>\n",
       "      <td>uniswap_v3</td>\n",
       "      <td>30</td>\n",
       "    </tr>\n",
       "    <tr>\n",
       "      <th>28548</th>\n",
       "      <td>2701707</td>\n",
       "      <td>2023-01-01</td>\n",
       "      <td>0.341167</td>\n",
       "      <td>0.349485</td>\n",
       "      <td>0.311281</td>\n",
       "      <td>0.334951</td>\n",
       "      <td>3.904455e+06</td>\n",
       "      <td>1.619144e+07</td>\n",
       "      <td>BIT-WETH-v3-30</td>\n",
       "      <td>uniswap_v3</td>\n",
       "      <td>30</td>\n",
       "    </tr>\n",
       "    <tr>\n",
       "      <th>15372</th>\n",
       "      <td>2697770</td>\n",
       "      <td>2023-01-01</td>\n",
       "      <td>1196.132013</td>\n",
       "      <td>1203.691053</td>\n",
       "      <td>1186.720266</td>\n",
       "      <td>1200.445633</td>\n",
       "      <td>1.451398e+07</td>\n",
       "      <td>3.164343e+07</td>\n",
       "      <td>WETH-USDT-v3-5</td>\n",
       "      <td>uniswap_v3</td>\n",
       "      <td>5</td>\n",
       "    </tr>\n",
       "    <tr>\n",
       "      <th>10248</th>\n",
       "      <td>2697610</td>\n",
       "      <td>2023-01-01</td>\n",
       "      <td>5.550532</td>\n",
       "      <td>5.621374</td>\n",
       "      <td>5.522250</td>\n",
       "      <td>5.607450</td>\n",
       "      <td>1.958343e+06</td>\n",
       "      <td>1.197425e+07</td>\n",
       "      <td>LINK-WETH-v3-30</td>\n",
       "      <td>uniswap_v3</td>\n",
       "      <td>30</td>\n",
       "    </tr>\n",
       "    <tr>\n",
       "      <th>16836</th>\n",
       "      <td>2698059</td>\n",
       "      <td>2023-01-01</td>\n",
       "      <td>0.387118</td>\n",
       "      <td>0.387563</td>\n",
       "      <td>0.383287</td>\n",
       "      <td>0.387324</td>\n",
       "      <td>1.765036e+05</td>\n",
       "      <td>1.229612e+07</td>\n",
       "      <td>1INCH-WETH-v3-100</td>\n",
       "      <td>uniswap_v3</td>\n",
       "      <td>100</td>\n",
       "    </tr>\n",
       "    <tr>\n",
       "      <th>732</th>\n",
       "      <td>239</td>\n",
       "      <td>2023-01-01</td>\n",
       "      <td>1195.185824</td>\n",
       "      <td>1204.001249</td>\n",
       "      <td>1188.307118</td>\n",
       "      <td>1202.936678</td>\n",
       "      <td>5.560654e+05</td>\n",
       "      <td>1.142700e+07</td>\n",
       "      <td>WETH-USDT-v2-30</td>\n",
       "      <td>uniswap_v2</td>\n",
       "      <td>30</td>\n",
       "    </tr>\n",
       "    <tr>\n",
       "      <th>2196</th>\n",
       "      <td>28202</td>\n",
       "      <td>2023-01-01</td>\n",
       "      <td>0.411992</td>\n",
       "      <td>0.411992</td>\n",
       "      <td>0.411992</td>\n",
       "      <td>0.411992</td>\n",
       "      <td>6.572122e+01</td>\n",
       "      <td>1.487704e+07</td>\n",
       "      <td>FNK-USDT-v2-30</td>\n",
       "      <td>uniswap_v2</td>\n",
       "      <td>30</td>\n",
       "    </tr>\n",
       "    <tr>\n",
       "      <th>5856</th>\n",
       "      <td>2697583</td>\n",
       "      <td>2023-01-01</td>\n",
       "      <td>5.160702</td>\n",
       "      <td>5.242279</td>\n",
       "      <td>5.106242</td>\n",
       "      <td>5.237424</td>\n",
       "      <td>1.599652e+06</td>\n",
       "      <td>1.617791e+07</td>\n",
       "      <td>UNI-WETH-v3-30</td>\n",
       "      <td>uniswap_v3</td>\n",
       "      <td>30</td>\n",
       "    </tr>\n",
       "    <tr>\n",
       "      <th>2928</th>\n",
       "      <td>29845</td>\n",
       "      <td>2023-01-01</td>\n",
       "      <td>0.100678</td>\n",
       "      <td>0.100678</td>\n",
       "      <td>0.099575</td>\n",
       "      <td>0.100189</td>\n",
       "      <td>2.210248e+05</td>\n",
       "      <td>4.236120e+07</td>\n",
       "      <td>WISE-WETH-v2-30</td>\n",
       "      <td>uniswap_v2</td>\n",
       "      <td>30</td>\n",
       "    </tr>\n",
       "  </tbody>\n",
       "</table>\n",
       "</div>"
      ],
      "text/plain": [
       "       pair_id  timestamp         open         high          low        close  \\\n",
       "0            1 2023-01-01  1197.048924  1202.559108  1191.927648  1201.429627   \n",
       "27816  2700159 2023-01-01  1187.308405  1192.707866  1183.779325  1190.949979   \n",
       "28548  2701707 2023-01-01     0.341167     0.349485     0.311281     0.334951   \n",
       "15372  2697770 2023-01-01  1196.132013  1203.691053  1186.720266  1200.445633   \n",
       "10248  2697610 2023-01-01     5.550532     5.621374     5.522250     5.607450   \n",
       "16836  2698059 2023-01-01     0.387118     0.387563     0.383287     0.387324   \n",
       "732        239 2023-01-01  1195.185824  1204.001249  1188.307118  1202.936678   \n",
       "2196     28202 2023-01-01     0.411992     0.411992     0.411992     0.411992   \n",
       "5856   2697583 2023-01-01     5.160702     5.242279     5.106242     5.237424   \n",
       "2928     29845 2023-01-01     0.100678     0.100678     0.099575     0.100189   \n",
       "\n",
       "             volume           tvl             ticker         dex  fee  \n",
       "0      6.921068e+05  3.661880e+07    WETH-USDC-v2-30  uniswap_v2   30  \n",
       "27816  3.050945e+05  4.296140e+07   sETH2-WETH-v3-30  uniswap_v3   30  \n",
       "28548  3.904455e+06  1.619144e+07     BIT-WETH-v3-30  uniswap_v3   30  \n",
       "15372  1.451398e+07  3.164343e+07     WETH-USDT-v3-5  uniswap_v3    5  \n",
       "10248  1.958343e+06  1.197425e+07    LINK-WETH-v3-30  uniswap_v3   30  \n",
       "16836  1.765036e+05  1.229612e+07  1INCH-WETH-v3-100  uniswap_v3  100  \n",
       "732    5.560654e+05  1.142700e+07    WETH-USDT-v2-30  uniswap_v2   30  \n",
       "2196   6.572122e+01  1.487704e+07     FNK-USDT-v2-30  uniswap_v2   30  \n",
       "5856   1.599652e+06  1.617791e+07     UNI-WETH-v3-30  uniswap_v3   30  \n",
       "2928   2.210248e+05  4.236120e+07    WISE-WETH-v2-30  uniswap_v2   30  "
      ]
     },
     "metadata": {},
     "output_type": "display_data"
    }
   ],
   "source": [
    "import datetime\n",
    "from pathlib import Path\n",
    "\n",
    "import pandas as pd\n",
    "\n",
    "from tradingstrategy.chain import ChainId\n",
    "from tradingstrategy.client import Client\n",
    "from tradingstrategy.timebucket import TimeBucket\n",
    "\n",
    "chain_id = ChainId.ethereum\n",
    "time_bucket = TimeBucket.h4\n",
    "liquidity_time_bucket = TimeBucket.d1\n",
    "min_prefilter_liquidity = 1_000_000\n",
    "client = Client.create_jupyter_client()\n",
    "start = datetime.datetime(2023, 1, 1)\n",
    "end = datetime.datetime(2025, 1, 1)\n",
    "cache_path = client.transport.cache_path\n",
    "\n",
    "train_start = datetime.datetime(2023, 1, 1)\n",
    "train_end = datetime.datetime(2024, 1, 1)\n",
    "\n",
    "trade_start = datetime.datetime(2024, 1, 1)\n",
    "trade_end = datetime.datetime(2025, 1, 1)\n",
    "\n",
    "\n",
    "combined_prefilter_fname = Path(f\"{cache_path}/{chain_id.get_slug()}-price-tvl-prefiltered.parquet\")\n",
    "policy_file = Path(f\"{cache_path}/{chain_id.get_slug()}-policy.pt\")\n",
    "# combined_feature_fname = Path(f\"{cache_path}/{chain_id.get_slug()}-features.parquet\")\n",
    "\n",
    "portfolio_raw_df = pd.read_parquet(combined_prefilter_fname)\n",
    "\n",
    "portfolio_raw_df = portfolio_raw_df.sort_values(by=['timestamp'])\n",
    "\n",
    "print(f\"We have total {len(portfolio_raw_df['pair_id'].unique())} pairs\")\n",
    "print(f\"Timestamp range {portfolio_raw_df['timestamp'].min()} - {portfolio_raw_df['timestamp'].max()}\")\n",
    "display(portfolio_raw_df[portfolio_raw_df.timestamp == pd.Timestamp(\"2023-01-01\")].dropna())\n",
    "\n",
    "# Don't deal with missing data yet - choose only pairs with full time series\n",
    "allowed_pairs = [\"WETH-USDC-v2-30\", \"WISE-WETH-v2-30\", \"UNI-WETH-v3-30\", \"LINK-WETH-v3-30\"]\n",
    "\n",
    "portfolio_raw_df = portfolio_raw_df[portfolio_raw_df.ticker.isin(allowed_pairs)]\n"
   ]
  },
  {
   "cell_type": "markdown",
   "metadata": {},
   "source": [
    "### Normalize Data"
   ]
  },
  {
   "cell_type": "markdown",
   "metadata": {},
   "source": [
    "We normalize the data dividing the time series of each stock by its maximum value, so that the dataframe contains values between 0 and 1."
   ]
  },
  {
   "cell_type": "code",
   "execution_count": 52,
   "metadata": {},
   "outputs": [
    {
     "data": {
      "text/html": [
       "<div>\n",
       "<style scoped>\n",
       "    .dataframe tbody tr th:only-of-type {\n",
       "        vertical-align: middle;\n",
       "    }\n",
       "\n",
       "    .dataframe tbody tr th {\n",
       "        vertical-align: top;\n",
       "    }\n",
       "\n",
       "    .dataframe thead th {\n",
       "        text-align: right;\n",
       "    }\n",
       "</style>\n",
       "<table border=\"1\" class=\"dataframe\">\n",
       "  <thead>\n",
       "    <tr style=\"text-align: right;\">\n",
       "      <th></th>\n",
       "      <th>open</th>\n",
       "      <th>high</th>\n",
       "      <th>low</th>\n",
       "      <th>close</th>\n",
       "      <th>volume</th>\n",
       "      <th>tvl</th>\n",
       "      <th>ticker</th>\n",
       "      <th>dex</th>\n",
       "      <th>fee</th>\n",
       "      <th>day</th>\n",
       "      <th>timestamp</th>\n",
       "    </tr>\n",
       "  </thead>\n",
       "  <tbody>\n",
       "    <tr>\n",
       "      <th>0</th>\n",
       "      <td>0.293910</td>\n",
       "      <td>0.293241</td>\n",
       "      <td>0.299610</td>\n",
       "      <td>0.294730</td>\n",
       "      <td>0.003121</td>\n",
       "      <td>0.633168</td>\n",
       "      <td>WETH-USDC-v2-30</td>\n",
       "      <td>uniswap_v2</td>\n",
       "      <td>1</td>\n",
       "      <td>0.000000</td>\n",
       "      <td>2023-01-01</td>\n",
       "    </tr>\n",
       "    <tr>\n",
       "      <th>10248</th>\n",
       "      <td>0.189854</td>\n",
       "      <td>0.183305</td>\n",
       "      <td>0.191236</td>\n",
       "      <td>0.191851</td>\n",
       "      <td>0.000274</td>\n",
       "      <td>0.202644</td>\n",
       "      <td>LINK-WETH-v3-30</td>\n",
       "      <td>uniswap_v3</td>\n",
       "      <td>1</td>\n",
       "      <td>0.000000</td>\n",
       "      <td>2023-01-01</td>\n",
       "    </tr>\n",
       "    <tr>\n",
       "      <th>5856</th>\n",
       "      <td>0.277200</td>\n",
       "      <td>0.270944</td>\n",
       "      <td>0.290270</td>\n",
       "      <td>0.281453</td>\n",
       "      <td>0.000587</td>\n",
       "      <td>0.327282</td>\n",
       "      <td>UNI-WETH-v3-30</td>\n",
       "      <td>uniswap_v3</td>\n",
       "      <td>1</td>\n",
       "      <td>0.000000</td>\n",
       "      <td>2023-01-01</td>\n",
       "    </tr>\n",
       "    <tr>\n",
       "      <th>2928</th>\n",
       "      <td>0.367569</td>\n",
       "      <td>0.367569</td>\n",
       "      <td>0.365535</td>\n",
       "      <td>0.367347</td>\n",
       "      <td>0.207450</td>\n",
       "      <td>0.329550</td>\n",
       "      <td>WISE-WETH-v2-30</td>\n",
       "      <td>uniswap_v2</td>\n",
       "      <td>1</td>\n",
       "      <td>0.000000</td>\n",
       "      <td>2023-01-01</td>\n",
       "    </tr>\n",
       "    <tr>\n",
       "      <th>10249</th>\n",
       "      <td>0.191933</td>\n",
       "      <td>0.186726</td>\n",
       "      <td>0.192725</td>\n",
       "      <td>0.195015</td>\n",
       "      <td>0.000358</td>\n",
       "      <td>0.213252</td>\n",
       "      <td>LINK-WETH-v3-30</td>\n",
       "      <td>uniswap_v3</td>\n",
       "      <td>1</td>\n",
       "      <td>0.001368</td>\n",
       "      <td>2023-01-02</td>\n",
       "    </tr>\n",
       "    <tr>\n",
       "      <th>...</th>\n",
       "      <td>...</td>\n",
       "      <td>...</td>\n",
       "      <td>...</td>\n",
       "      <td>...</td>\n",
       "      <td>...</td>\n",
       "      <td>...</td>\n",
       "      <td>...</td>\n",
       "      <td>...</td>\n",
       "      <td>...</td>\n",
       "      <td>...</td>\n",
       "      <td>...</td>\n",
       "    </tr>\n",
       "    <tr>\n",
       "      <th>10978</th>\n",
       "      <td>0.702737</td>\n",
       "      <td>0.686060</td>\n",
       "      <td>0.689437</td>\n",
       "      <td>0.682714</td>\n",
       "      <td>0.001148</td>\n",
       "      <td>0.469036</td>\n",
       "      <td>LINK-WETH-v3-30</td>\n",
       "      <td>uniswap_v3</td>\n",
       "      <td>1</td>\n",
       "      <td>0.998632</td>\n",
       "      <td>2024-12-31</td>\n",
       "    </tr>\n",
       "    <tr>\n",
       "      <th>10979</th>\n",
       "      <td>0.682711</td>\n",
       "      <td>0.710052</td>\n",
       "      <td>0.682348</td>\n",
       "      <td>0.740494</td>\n",
       "      <td>0.002412</td>\n",
       "      <td>0.699041</td>\n",
       "      <td>LINK-WETH-v3-30</td>\n",
       "      <td>uniswap_v3</td>\n",
       "      <td>1</td>\n",
       "      <td>1.000000</td>\n",
       "      <td>2025-01-01</td>\n",
       "    </tr>\n",
       "    <tr>\n",
       "      <th>731</th>\n",
       "      <td>0.817638</td>\n",
       "      <td>0.821324</td>\n",
       "      <td>0.834180</td>\n",
       "      <td>0.823794</td>\n",
       "      <td>0.011073</td>\n",
       "      <td>0.406050</td>\n",
       "      <td>WETH-USDC-v2-30</td>\n",
       "      <td>uniswap_v2</td>\n",
       "      <td>1</td>\n",
       "      <td>1.000000</td>\n",
       "      <td>2025-01-01</td>\n",
       "    </tr>\n",
       "    <tr>\n",
       "      <th>3659</th>\n",
       "      <td>0.755788</td>\n",
       "      <td>0.758570</td>\n",
       "      <td>0.754930</td>\n",
       "      <td>0.754022</td>\n",
       "      <td>0.038066</td>\n",
       "      <td>0.785101</td>\n",
       "      <td>WISE-WETH-v2-30</td>\n",
       "      <td>uniswap_v2</td>\n",
       "      <td>1</td>\n",
       "      <td>1.000000</td>\n",
       "      <td>2025-01-01</td>\n",
       "    </tr>\n",
       "    <tr>\n",
       "      <th>6587</th>\n",
       "      <td>0.710479</td>\n",
       "      <td>0.705920</td>\n",
       "      <td>0.743043</td>\n",
       "      <td>0.730781</td>\n",
       "      <td>0.001728</td>\n",
       "      <td>0.595411</td>\n",
       "      <td>UNI-WETH-v3-30</td>\n",
       "      <td>uniswap_v3</td>\n",
       "      <td>1</td>\n",
       "      <td>1.000000</td>\n",
       "      <td>2025-01-01</td>\n",
       "    </tr>\n",
       "  </tbody>\n",
       "</table>\n",
       "<p>2928 rows × 11 columns</p>\n",
       "</div>"
      ],
      "text/plain": [
       "           open      high       low     close    volume       tvl  \\\n",
       "0      0.293910  0.293241  0.299610  0.294730  0.003121  0.633168   \n",
       "10248  0.189854  0.183305  0.191236  0.191851  0.000274  0.202644   \n",
       "5856   0.277200  0.270944  0.290270  0.281453  0.000587  0.327282   \n",
       "2928   0.367569  0.367569  0.365535  0.367347  0.207450  0.329550   \n",
       "10249  0.191933  0.186726  0.192725  0.195015  0.000358  0.213252   \n",
       "...         ...       ...       ...       ...       ...       ...   \n",
       "10978  0.702737  0.686060  0.689437  0.682714  0.001148  0.469036   \n",
       "10979  0.682711  0.710052  0.682348  0.740494  0.002412  0.699041   \n",
       "731    0.817638  0.821324  0.834180  0.823794  0.011073  0.406050   \n",
       "3659   0.755788  0.758570  0.754930  0.754022  0.038066  0.785101   \n",
       "6587   0.710479  0.705920  0.743043  0.730781  0.001728  0.595411   \n",
       "\n",
       "                ticker         dex  fee       day  timestamp  \n",
       "0      WETH-USDC-v2-30  uniswap_v2    1  0.000000 2023-01-01  \n",
       "10248  LINK-WETH-v3-30  uniswap_v3    1  0.000000 2023-01-01  \n",
       "5856    UNI-WETH-v3-30  uniswap_v3    1  0.000000 2023-01-01  \n",
       "2928   WISE-WETH-v2-30  uniswap_v2    1  0.000000 2023-01-01  \n",
       "10249  LINK-WETH-v3-30  uniswap_v3    1  0.001368 2023-01-02  \n",
       "...                ...         ...  ...       ...        ...  \n",
       "10978  LINK-WETH-v3-30  uniswap_v3    1  0.998632 2024-12-31  \n",
       "10979  LINK-WETH-v3-30  uniswap_v3    1  1.000000 2025-01-01  \n",
       "731    WETH-USDC-v2-30  uniswap_v2    1  1.000000 2025-01-01  \n",
       "3659   WISE-WETH-v2-30  uniswap_v2    1  1.000000 2025-01-01  \n",
       "6587    UNI-WETH-v3-30  uniswap_v3    1  1.000000 2025-01-01  \n",
       "\n",
       "[2928 rows x 11 columns]"
      ]
     },
     "metadata": {},
     "output_type": "display_data"
    }
   ],
   "source": [
    "# Sklearn fit_transform() does not allow dates, so we convert timestamp to day (float) column\n",
    "portfolio_prepared_df = portfolio_raw_df.copy()\n",
    "first_timestamp = portfolio_prepared_df['timestamp'].min()\n",
    "portfolio_prepared_df['day'] = (portfolio_prepared_df['timestamp'] - first_timestamp).dt.total_seconds() / (24 * 60 * 60)\n",
    "del portfolio_prepared_df['timestamp']\n",
    "del portfolio_prepared_df['pair_id']  # Cannot use numeric pair_id with GroupByScaler\n",
    " \n",
    "portfolio_norm_df = GroupByScaler(by=\"ticker\", scaler=MaxAbsScaler).fit_transform(portfolio_prepared_df)\n",
    "portfolio_norm_df[\"timestamp\"] = portfolio_raw_df[\"timestamp\"]\n",
    "display(portfolio_norm_df)\n"
   ]
  },
  {
   "cell_type": "code",
   "execution_count": 53,
   "metadata": {},
   "outputs": [
    {
     "name": "stdout",
     "output_type": "stream",
     "text": [
      "Train range 2023-01-01 00:00:00 - 2024-12-31 00:00:00\n"
     ]
    },
    {
     "data": {
      "text/html": [
       "<div>\n",
       "<style scoped>\n",
       "    .dataframe tbody tr th:only-of-type {\n",
       "        vertical-align: middle;\n",
       "    }\n",
       "\n",
       "    .dataframe tbody tr th {\n",
       "        vertical-align: top;\n",
       "    }\n",
       "\n",
       "    .dataframe thead th {\n",
       "        text-align: right;\n",
       "    }\n",
       "</style>\n",
       "<table border=\"1\" class=\"dataframe\">\n",
       "  <thead>\n",
       "    <tr style=\"text-align: right;\">\n",
       "      <th></th>\n",
       "      <th>timestamp</th>\n",
       "      <th>ticker</th>\n",
       "      <th>close</th>\n",
       "      <th>high</th>\n",
       "      <th>low</th>\n",
       "    </tr>\n",
       "    <tr>\n",
       "      <th>Price</th>\n",
       "      <th></th>\n",
       "      <th></th>\n",
       "      <th></th>\n",
       "      <th></th>\n",
       "      <th></th>\n",
       "    </tr>\n",
       "  </thead>\n",
       "  <tbody>\n",
       "    <tr>\n",
       "      <th>0</th>\n",
       "      <td>2023-01-01</td>\n",
       "      <td>WETH-USDC-v2-30</td>\n",
       "      <td>0.294730</td>\n",
       "      <td>0.293241</td>\n",
       "      <td>0.299610</td>\n",
       "    </tr>\n",
       "    <tr>\n",
       "      <th>10248</th>\n",
       "      <td>2023-01-01</td>\n",
       "      <td>LINK-WETH-v3-30</td>\n",
       "      <td>0.191851</td>\n",
       "      <td>0.183305</td>\n",
       "      <td>0.191236</td>\n",
       "    </tr>\n",
       "    <tr>\n",
       "      <th>5856</th>\n",
       "      <td>2023-01-01</td>\n",
       "      <td>UNI-WETH-v3-30</td>\n",
       "      <td>0.281453</td>\n",
       "      <td>0.270944</td>\n",
       "      <td>0.290270</td>\n",
       "    </tr>\n",
       "    <tr>\n",
       "      <th>2928</th>\n",
       "      <td>2023-01-01</td>\n",
       "      <td>WISE-WETH-v2-30</td>\n",
       "      <td>0.367347</td>\n",
       "      <td>0.367569</td>\n",
       "      <td>0.365535</td>\n",
       "    </tr>\n",
       "    <tr>\n",
       "      <th>10249</th>\n",
       "      <td>2023-01-02</td>\n",
       "      <td>LINK-WETH-v3-30</td>\n",
       "      <td>0.195015</td>\n",
       "      <td>0.186726</td>\n",
       "      <td>0.192725</td>\n",
       "    </tr>\n",
       "    <tr>\n",
       "      <th>...</th>\n",
       "      <td>...</td>\n",
       "      <td>...</td>\n",
       "      <td>...</td>\n",
       "      <td>...</td>\n",
       "      <td>...</td>\n",
       "    </tr>\n",
       "    <tr>\n",
       "      <th>10977</th>\n",
       "      <td>2024-12-30</td>\n",
       "      <td>LINK-WETH-v3-30</td>\n",
       "      <td>0.703221</td>\n",
       "      <td>0.704497</td>\n",
       "      <td>0.698187</td>\n",
       "    </tr>\n",
       "    <tr>\n",
       "      <th>730</th>\n",
       "      <td>2024-12-31</td>\n",
       "      <td>WETH-USDC-v2-30</td>\n",
       "      <td>0.816926</td>\n",
       "      <td>0.838822</td>\n",
       "      <td>0.834225</td>\n",
       "    </tr>\n",
       "    <tr>\n",
       "      <th>3658</th>\n",
       "      <td>2024-12-31</td>\n",
       "      <td>WISE-WETH-v2-30</td>\n",
       "      <td>0.757624</td>\n",
       "      <td>0.765973</td>\n",
       "      <td>0.758455</td>\n",
       "    </tr>\n",
       "    <tr>\n",
       "      <th>6586</th>\n",
       "      <td>2024-12-31</td>\n",
       "      <td>UNI-WETH-v3-30</td>\n",
       "      <td>0.710712</td>\n",
       "      <td>0.713651</td>\n",
       "      <td>0.748487</td>\n",
       "    </tr>\n",
       "    <tr>\n",
       "      <th>10978</th>\n",
       "      <td>2024-12-31</td>\n",
       "      <td>LINK-WETH-v3-30</td>\n",
       "      <td>0.682714</td>\n",
       "      <td>0.686060</td>\n",
       "      <td>0.689437</td>\n",
       "    </tr>\n",
       "  </tbody>\n",
       "</table>\n",
       "<p>2924 rows × 5 columns</p>\n",
       "</div>"
      ],
      "text/plain": [
       "       timestamp           ticker     close      high       low\n",
       "Price                                                          \n",
       "0     2023-01-01  WETH-USDC-v2-30  0.294730  0.293241  0.299610\n",
       "10248 2023-01-01  LINK-WETH-v3-30  0.191851  0.183305  0.191236\n",
       "5856  2023-01-01   UNI-WETH-v3-30  0.281453  0.270944  0.290270\n",
       "2928  2023-01-01  WISE-WETH-v2-30  0.367347  0.367569  0.365535\n",
       "10249 2023-01-02  LINK-WETH-v3-30  0.195015  0.186726  0.192725\n",
       "...          ...              ...       ...       ...       ...\n",
       "10977 2024-12-30  LINK-WETH-v3-30  0.703221  0.704497  0.698187\n",
       "730   2024-12-31  WETH-USDC-v2-30  0.816926  0.838822  0.834225\n",
       "3658  2024-12-31  WISE-WETH-v2-30  0.757624  0.765973  0.758455\n",
       "6586  2024-12-31   UNI-WETH-v3-30  0.710712  0.713651  0.748487\n",
       "10978 2024-12-31  LINK-WETH-v3-30  0.682714  0.686060  0.689437\n",
       "\n",
       "[2924 rows x 5 columns]"
      ]
     },
     "metadata": {},
     "output_type": "display_data"
    }
   ],
   "source": [
    "# df_portfolio = portfolio_norm_df\n",
    "\n",
    "df_portfolio = portfolio_norm_df[[\"timestamp\", \"ticker\", \"close\", \"high\", \"low\"]]\n",
    "df_portfolio.index.name = \"Price\"  # TODO: Needed?\n",
    "\n",
    "df_portfolio_train = df_portfolio[(df_portfolio[\"timestamp\"] >= train_start) & (df_portfolio[\"timestamp\"] < trade_end)]\n",
    "df_portfolio_trade = df_portfolio[(df_portfolio[\"timestamp\"] >= trade_start) & (df_portfolio[\"timestamp\"] < trade_end)]\n",
    "\n",
    "\n",
    "print(f\"Train range {df_portfolio_train['timestamp'].min()} - {df_portfolio_train['timestamp'].max()}\")\n",
    "display(df_portfolio_train)\n"
   ]
  },
  {
   "cell_type": "markdown",
   "metadata": {
    "id": "pM829994GWo3"
   },
   "source": [
    "### Instantiate Environment\n",
    "\n",
    "Using the `PortfolioOptimizationEnv`, it's easy to instantiate a portfolio optimization environment for reinforcement learning agents. In the example below, we use the dataframe created before to start an environment."
   ]
  },
  {
   "cell_type": "code",
   "execution_count": 54,
   "metadata": {},
   "outputs": [
    {
     "name": "stdout",
     "output_type": "stream",
     "text": [
      "Portfolio optimisation for 4 assets\n"
     ]
    }
   ],
   "source": [
    "environment = PortfolioOptimizationEnv(\n",
    "    df_portfolio_train,\n",
    "    initial_amount=10_000,\n",
    "    comission_fee_pct=0.0050,\n",
    "    time_window=50,\n",
    "    features=[\"close\", \"high\", \"low\"],\n",
    "    normalize_df=None,\n",
    "    time_column=\"timestamp\",\n",
    "    tic_column=\"ticker\"\n",
    ")\n",
    "\n",
    "print(f\"Portfolio optimisation for {environment.portfolio_size} assets\")"
   ]
  },
  {
   "cell_type": "markdown",
   "metadata": {},
   "source": [
    "### Instantiate Model\n",
    "\n",
    "Now, we can instantiate the model using FinRL API. In this example, we are going to use the EIIE architecture introduced by Jiang et. al.\n",
    "\n",
    ":exclamation: **Note:** Remember to set the architecture's `time_window` parameter with the same value of the environment's `time_window`."
   ]
  },
  {
   "cell_type": "code",
   "execution_count": 55,
   "metadata": {
    "colab": {
     "base_uri": "https://localhost:8080/",
     "height": 1000,
     "referenced_widgets": [
      "750b2ea28d2a439db3fc5034927dbce2",
      "c172e120fc5e4f9ab13bf8599d868b5f",
      "4b2aa7128c5d4d15bb794eb76faccd6a",
      "317393fb13c0449abfff29a4949553a0",
      "8cb75a82e5374c51b1f47a6e15783177",
      "9cb3d937be5d4f7cac192b392218ef37",
      "b27b9cc333ac44a5bb2cec60d02f16c0",
      "6a1187acb99d44c68e27cd5aad879ff1",
      "6a5c9dbaddc441d390d4827c170cbe9c",
      "1f84695a1caf4c80b29eb5eea90bb29a",
      "a7a6884bfdb642b9b342f7cda49d7d67"
     ]
    },
    "id": "wr82W3E0uQSo",
    "outputId": "61dcf1f5-7cf0-40b2-85bd-3f7dd943ddc6",
    "scrolled": true
   },
   "outputs": [],
   "source": [
    "# set PolicyGradient parameters\n",
    "model_kwargs = {\n",
    "    \"lr\": 0.01,\n",
    "    \"policy\": EIIE,\n",
    "}\n",
    "\n",
    "# here, we can set EIIE's parameters\n",
    "policy_kwargs = {\n",
    "    \"k_size\": 3,\n",
    "    \"time_window\": 50,\n",
    "}\n",
    "\n",
    "model = DRLAgent(environment).get_model(\"pg\", device, model_kwargs, policy_kwargs)"
   ]
  },
  {
   "cell_type": "markdown",
   "metadata": {},
   "source": [
    "### Train Model"
   ]
  },
  {
   "cell_type": "code",
   "execution_count": 56,
   "metadata": {},
   "outputs": [
    {
     "name": "stderr",
     "output_type": "stream",
     "text": [
      " 20%|██        | 1/5 [00:01<00:05,  1.30s/it]"
     ]
    },
    {
     "name": "stdout",
     "output_type": "stream",
     "text": [
      "=================================\n",
      "Initial portfolio value:10000\n",
      "Final portfolio value: 19786.515625\n",
      "Final accumulative portfolio value: 1.9786515625\n",
      "Maximum DrawDown: -0.4331534215094449\n",
      "Sharpe ratio: 0.8105873556055991\n",
      "=================================\n"
     ]
    },
    {
     "name": "stderr",
     "output_type": "stream",
     "text": [
      " 40%|████      | 2/5 [00:02<00:03,  1.31s/it]"
     ]
    },
    {
     "name": "stdout",
     "output_type": "stream",
     "text": [
      "=================================\n",
      "Initial portfolio value:10000\n",
      "Final portfolio value: 20269.30859375\n",
      "Final accumulative portfolio value: 2.026930859375\n",
      "Maximum DrawDown: -0.4357576771991126\n",
      "Sharpe ratio: 0.826265154875095\n",
      "=================================\n"
     ]
    },
    {
     "name": "stderr",
     "output_type": "stream",
     "text": [
      " 60%|██████    | 3/5 [00:03<00:02,  1.28s/it]"
     ]
    },
    {
     "name": "stdout",
     "output_type": "stream",
     "text": [
      "=================================\n",
      "Initial portfolio value:10000\n",
      "Final portfolio value: 20535.990234375\n",
      "Final accumulative portfolio value: 2.0535990234375\n",
      "Maximum DrawDown: -0.4424769360605758\n",
      "Sharpe ratio: 0.8300327303676731\n",
      "=================================\n"
     ]
    },
    {
     "name": "stderr",
     "output_type": "stream",
     "text": [
      " 80%|████████  | 4/5 [00:05<00:01,  1.27s/it]"
     ]
    },
    {
     "name": "stdout",
     "output_type": "stream",
     "text": [
      "=================================\n",
      "Initial portfolio value:10000\n",
      "Final portfolio value: 21095.98046875\n",
      "Final accumulative portfolio value: 2.109598046875\n",
      "Maximum DrawDown: -0.4418822833715401\n",
      "Sharpe ratio: 0.8465063628953716\n",
      "=================================\n"
     ]
    },
    {
     "name": "stderr",
     "output_type": "stream",
     "text": [
      "100%|██████████| 5/5 [00:06<00:00,  1.28s/it]"
     ]
    },
    {
     "name": "stdout",
     "output_type": "stream",
     "text": [
      "=================================\n",
      "Initial portfolio value:10000\n",
      "Final portfolio value: 22143.767578125\n",
      "Final accumulative portfolio value: 2.2143767578125\n",
      "Maximum DrawDown: -0.45300609318833607\n",
      "Sharpe ratio: 0.8691009065160387\n",
      "=================================\n"
     ]
    },
    {
     "name": "stderr",
     "output_type": "stream",
     "text": [
      "\n"
     ]
    },
    {
     "data": {
      "text/plain": [
       "<finrl.agents.portfolio_optimization.algorithms.PolicyGradient at 0x337f80d10>"
      ]
     },
     "execution_count": 56,
     "metadata": {},
     "output_type": "execute_result"
    }
   ],
   "source": [
    "DRLAgent.train_model(model, episodes=5)"
   ]
  },
  {
   "cell_type": "markdown",
   "metadata": {
    "id": "JE7X3qEeXOr4"
   },
   "source": [
    "### Save Model"
   ]
  },
  {
   "cell_type": "code",
   "execution_count": 57,
   "metadata": {
    "id": "YcWuPgPvXNpP"
   },
   "outputs": [],
   "source": [
    "torch.save(model.train_policy.state_dict(), policy_file.as_posix())"
   ]
  },
  {
   "cell_type": "markdown",
   "metadata": {
    "id": "7FRK9A98XVck"
   },
   "source": [
    "## Test Model"
   ]
  },
  {
   "cell_type": "markdown",
   "metadata": {
    "id": "IFYB9iGwAPSh"
   },
   "source": [
    "### Instantiate different environments\n",
    "\n",
    "Since we have three different periods of time, we need three different environments instantiated to simulate them."
   ]
  },
  {
   "cell_type": "code",
   "execution_count": 58,
   "metadata": {
    "id": "HhsL5Cxx9d5s"
   },
   "outputs": [],
   "source": [
    "environment_trade = PortfolioOptimizationEnv(\n",
    "    df_portfolio_trade,\n",
    "    initial_amount=10_000,\n",
    "    comission_fee_pct=0.0025,\n",
    "    time_window=50,\n",
    "    features=[\"close\", \"high\", \"low\"],\n",
    "    normalize_df=None,\n",
    "    time_column=\"timestamp\",\n",
    "    tic_column=\"ticker\"    \n",
    ")\n"
   ]
  },
  {
   "cell_type": "markdown",
   "metadata": {
    "id": "Y4RuS2pRAa4H"
   },
   "source": [
    "### Test EIIE architecture\n",
    "Now, we can test the EIIE architecture in the three different test periods. It's important no note that, in this code, we load the saved policy even though it's not necessary just to show how to save and load your model."
   ]
  },
  {
   "cell_type": "code",
   "execution_count": 59,
   "metadata": {
    "id": "JeRy__TI9CAs"
   },
   "outputs": [
    {
     "name": "stderr",
     "output_type": "stream",
     "text": [
      "/var/folders/8n/h2dzh5yx5470cc6c_12dwrjw0000gn/T/ipykernel_63412/1327804178.py:9: FutureWarning: You are using `torch.load` with `weights_only=False` (the current default value), which uses the default pickle module implicitly. It is possible to construct malicious pickle data which will execute arbitrary code during unpickling (See https://github.com/pytorch/pytorch/blob/main/SECURITY.md#untrusted-models for more details). In a future release, the default value for `weights_only` will be flipped to `True`. This limits the functions that could be executed during unpickling. Arbitrary objects will no longer be allowed to be loaded via this mode unless they are explicitly allowlisted by the user via `torch.serialization.add_safe_globals`. We recommend you start setting `weights_only=True` for any use case where you don't have full control of the loaded file. Please open an issue on GitHub for any issues related to this experimental feature.\n",
      "  policy.load_state_dict(torch.load(\"policy_EIIE.pt\"))\n"
     ]
    },
    {
     "name": "stdout",
     "output_type": "stream",
     "text": [
      "=================================\n",
      "Initial portfolio value:10000\n",
      "Final portfolio value: 11193.361328125\n",
      "Final accumulative portfolio value: 1.1193361328125\n",
      "Maximum DrawDown: -0.2918094938866689\n",
      "Sharpe ratio: 0.41636016766020373\n",
      "=================================\n"
     ]
    }
   ],
   "source": [
    "EIIE_results = {\n",
    "    \"training\": environment._asset_memory[\"final\"],\n",
    "    \"trade\": {},\n",
    "}\n",
    "\n",
    "# instantiate an architecture with the same arguments used in training\n",
    "# and load with load_state_dict.\n",
    "policy = EIIE(time_window=50, device=device)\n",
    "policy.load_state_dict(torch.load(\"policy_EIIE.pt\"))\n",
    "\n",
    "# trade\n",
    "DRLAgent.DRL_validation(model, environment_trade, policy=policy)\n",
    "EIIE_results[\"trade\"][\"value\"] = environment_trade._asset_memory[\"final\"]\n"
   ]
  },
  {
   "cell_type": "markdown",
   "metadata": {
    "id": "LZc5PpbaBU-J"
   },
   "source": [
    "### Test Uniform Buy and Hold\n",
    "For comparison, we will also test the performance of a uniform buy and hold strategy. In this strategy, the portfolio has no remaining cash and the same percentage of money is allocated in each asset."
   ]
  },
  {
   "cell_type": "code",
   "execution_count": 63,
   "metadata": {
    "id": "ntHO_UIs-83T"
   },
   "outputs": [
    {
     "name": "stdout",
     "output_type": "stream",
     "text": [
      "=================================\n",
      "Initial portfolio value:10000\n",
      "Final portfolio value: 21830.373046875\n",
      "Final accumulative portfolio value: 2.1830373046875\n",
      "Maximum DrawDown: -0.5055297001198602\n",
      "Sharpe ratio: 0.8221725879295585\n",
      "=================================\n",
      "=================================\n",
      "Initial portfolio value:10000\n",
      "Final portfolio value: 13116.294921875\n",
      "Final accumulative portfolio value: 1.3116294921875\n",
      "Maximum DrawDown: -0.5021898420268768\n",
      "Sharpe ratio: 0.6566944167040716\n",
      "=================================\n",
      "{'train': {'value': [10000, 10091.706, 9697.612, 9647.772, 9771.3955, 9366.015, 9235.541, 9469.902, 9338.046, 9260.842, 9625.236, 9453.48, 8953.187, 8883.727, 8989.912, 8966.869, 8963.967, 8688.706, 8132.7275, 8163.8423, 8453.663, 8844.832, 9156.959, 9389.9, 8928.257, 9049.959, 9636.892, 9613.627, 9779.2705, 9439.609, 9819.47, 9434.227, 9868.036, 9394.624, 9279.875, 9475.589, 9073.383, 9348.34, 9604.022, 9504.277, 9807.602, 9809.847, 9562.262, 9611.227, 9908.702, 10025.611, 9796.63, 9790.228, 9703.351, 9727.075, 9945.069, 9846.238, 9890.407, 10327.764, 10717.522, 10763.84, 10888.467, 10689.471, 10989.795, 10257.065, 9981.521, 9568.279, 9583.83, 9499.713, 9462.43, 9583.43, 9492.121, 9698.951, 9614.838, 9699.361, 9556.055, 9326.85, 9437.828, 9551.255, 9426.884, 9906.107, 9487.262, 9450.878, 9072.449, 9026.146, 9143.643, 8890.433, 9064.567, 8965.508, 8976.762, 9062.825, 9080.439, 9214.315, 9019.566, 9083.172, 9082.889, 8937.784, 9007.74, 9062.137, 8828.915, 8840.069, 8926.978, 8965.465, 9199.879, 9214.681, 9250.143, 9064.528, 8978.789, 9168.741, 9129.455, 9142.061, 8637.207, 8911.958, 8558.074, 8666.162, 8613.345, 7901.5244, 7873.932, 7953.002, 7989.7744, 7831.8086, 7877.6836, 8019.469, 8090.952, 7996.963, 8002.943, 8215.223, 8696.048, 8648.178, 8914.127, 8841.418, 9217.432, 9010.914, 9157.465, 8680.213, 8800.723, 9299.057, 9470.725, 9491.885, 9572.039, 9499.442, 9337.16, 9064.301, 9161.759, 9035.687, 9056.266, 9079.442, 9098.467, 9113.2, 10002.918, 9745.478, 9728.092, 9578.732, 9838.645, 9674.068, 9675.228, 10221.074, 10243.7705, 9968.559, 10131.493, 9778.601, 9734.417, 9918.81, 9960.815, 10004.822, 10185.06, 10078.303, 10099.47, 10140.658, 9870.025, 9766.811, 9704.764, 9772.363, 9676.164, 9671.541, 9902.061, 10048.8125, 9992.561, 9913.933, 9924.081, 9827.885, 9925.826, 9641.211, 9286.085, 8739.494, 8477.35, 8490.473, 8532.339, 8431.979, 8249.293, 8489.624, 8270.378, 8206.195, 8197.674, 8263.236, 8254.139, 8463.079, 8350.973, 8065.81, 7984.574, 8056.92, 8098.0176, 8063.767, 8088.831, 8168.891, 8267.274, 8143.168, 8108.9023, 7951.204, 7657.1016, 7883.443, 7945.172, 8062.409, 8177.1807, 8140.847, 8040.924, 8259.141, 8380.963, 8322.915, 8098.548, 8195.602, 8280.422, 8161.7007, 8332.065, 8300.875, 8394.786, 8681.598, 8745.827, 8864.847, 9017.557, 8619.554, 8539.383, 8572.537, 8433.633, 8615.043, 8532.943, 8548.074, 8194.256, 8138.113, 8193.632, 7990.2515, 8076.1553, 8130.85, 8158.0547, 8305.357, 8054.9497, 8058.4355, 8067.045, 8283.455, 8732.285, 9201.105, 9671.678, 9568.078, 9698.066, 9656.235, 9630.348, 9585.971, 9734.642, 9783.585, 9798.851, 10306.124, 10013.468, 10193.785, 10324.719, 10591.199, 10950.487, 10825.139, 11370.447, 11820.631, 12151.994, 12277.233, 12179.597, 11879.551, 11522.389, 12003.221, 11489.346, 11313.943, 11263.99, 11716.236, 11721.864, 11224.238, 12254.249, 12473.994, 12452.509, 12510.579, 12456.662, 12228.784, 12304.293, 12270.221, 12193.508, 12482.29, 12913.73, 12968.552, 13100.602, 13353.945, 13020.167, 13474.294, 13981.405, 13981.336, 13868.335, 12880.088, 12813.819, 13138.51, 13450.162, 12772.043, 12829.751, 12714.33, 12639.32, 12480.098, 12608.737, 13117.172, 13512.414, 13505.041, 13550.764, 13719.247, 13612.243, 14406.209, 14481.479, 14029.082, 13890.37, 13664.607, 14150.324, 13922.854, 12855.445, 13206.442, 13026.566, 12724.793, 12451.356, 13123.592, 12887.295, 13980.064, 14397.648, 13793.618, 14050.947, 13792.105, 14111.289, 14436.643, 14245.337, 13635.965, 14022.196, 13974.693, 13819.353, 13019.303, 12558.987, 12552.387, 12353.133, 12721.533, 12796.673, 12736.173, 13133.212, 13355.091, 13051.589, 13507.626, 13683.17, 13634.757, 13655.666, 13847.686, 14111.678, 14402.477, 14285.964, 14723.585, 14810.286, 15058.702, 15657.019, 15387.037, 15984.445, 16401.469, 16243.109, 16438.861, 16696.713, 16870.316, 16824.037, 16371.129, 16397.572, 18417.973, 18724.016, 19016.758, 19122.031, 19468.8, 19841.76, 19915.14, 20607.352, 21337.568, 21292.191, 21588.072, 21352.783, 23379.842, 23340.598, 23230.88, 23141.912, 23513.465, 24172.027, 23392.934, 23666.082, 23253.727, 21768.066, 20737.012, 21240.506, 20587.533, 19047.936, 20555.57, 20616.98, 19826.342, 20012.742, 20425.223, 21324.09, 21585.791, 20936.518, 21348.328, 21039.635, 21045.533, 21575.941, 20757.107, 19544.363, 19351.738, 19499.43, 19329.238, 19626.965, 19996.23, 20932.326, 19944.037, 19502.943, 19017.791, 16988.574, 15454.172, 16350.723, 15854.833, 15752.229, 15295.43, 15855.486, 15941.862, 16706.66, 16664.504, 17190.752, 16999.828, 16407.234, 16680.668, 16429.93, 16809.746, 16689.23, 16575.436, 15334.468, 15315.416, 15521.92, 16170.031, 16239.455, 16367.773, 16176.342, 15885.375, 15655.646, 15961.062, 15254.345, 15191.978, 15285.691, 15250.473, 14850.965, 15827.443, 15962.618, 16691.39, 16985.375, 16829.297, 18768.64, 19861.496, 19520.1, 19535.559, 20267.504, 20905.133, 20980.578, 21562.312, 21425.89, 20865.39, 20844.514, 20587.566, 20676.217, 20248.662, 20146.363, 21309.66, 21296.574, 20770.936, 19757.793, 19689.45, 19817.871, 19817.38, 18443.645, 19439.82, 19004.834, 18983.07, 19775.865, 20177.523, 19178.23, 18356.553, 18858.416, 18826.396, 18574.72, 18409.344, 18121.158, 17783.523, 18207.832, 18022.113, 18381.732, 17768.164, 17641.78, 18223.941, 18252.146, 18100.883, 17289.238, 16023.826, 15689.275, 16393.152, 15594.909, 16140.18, 16259.952, 16261.656, 16061.152, 16309.942, 16609.41, 17028.725, 18063.229, 17654.45, 17333.422, 17259.297, 17546.678, 17780.328, 18030.895, 17366.818, 17454.578, 16720.0, 16092.392, 16790.021, 16747.098, 16564.63, 16912.39, 16490.379, 16255.058, 16090.789, 14905.008, 14669.899, 13887.559, 12133.534, 12588.91, 12024.752, 13490.326, 13216.292, 13303.02, 12876.912, 13574.843, 13641.922, 13534.967, 13093.192, 13349.168, 13301.03, 13277.399, 13261.625, 13194.963, 14061.223, 14014.176, 14662.147, 14626.898, 14475.118, 13998.201, 13035.867, 13101.939, 13063.287, 13082.133, 13097.767, 12475.34, 13184.498, 12770.582, 12996.401, 12622.117, 11952.35, 12378.738, 12506.818, 12933.615, 13006.332, 12873.213, 13012.051, 13410.209, 13268.877, 12954.577, 12762.531, 12961.989, 12985.995, 13517.839, 13759.107, 13936.924, 13680.231, 14001.084, 14330.137, 14051.7705, 14611.792, 15018.238, 14946.136, 14721.451, 14338.742, 13611.315, 13112.275, 12858.121, 13275.203, 13325.688, 13529.779, 13602.61, 13471.581, 13239.092, 13663.789, 13864.77, 14122.497, 13756.705, 14596.411, 14392.557, 14319.836, 14115.53, 14370.39, 14312.29, 14935.365, 14715.514, 14789.333, 14316.768, 14372.667, 13748.7705, 13821.078, 13918.024, 14193.46, 14679.818, 15065.009, 14112.115, 14042.203, 13822.277, 13480.037, 13049.131, 13480.877, 15671.414, 16138.141, 16616.064, 17324.387, 17653.676, 18137.574, 17677.96, 17269.877, 16405.629, 16869.64, 17532.549, 16914.73, 17901.318, 17618.867, 17144.598, 18382.84, 19035.91, 19948.727, 20066.611, 20290.969, 19757.906, 22338.742, 21569.436, 21641.273, 22323.584, 22359.072, 24313.43, 24496.48, 25529.398, 24878.264, 27356.875, 27241.09, 27709.652, 25128.105, 24161.738, 26090.18, 27785.344, 27816.932, 27406.848, 27735.6, 27675.895, 26960.188, 24891.395, 22712.723, 23268.418, 22485.283, 22503.488, 23617.816, 24353.738, 23705.393, 22508.06, 22228.48, 22775.273, 22019.258, 22156.344, 21830.373]}, 'trade': {'value': [10000, 9973.27, 9705.303, 9721.192, 10919.24, 11105.862, 11279.857, 11342.779, 11549.256, 11770.756, 11814.582, 12225.533, 12658.902, 12633.172, 12809.31, 12670.529, 13874.721, 13852.559, 13787.994, 13735.618, 13956.605, 14348.7, 13886.985, 14049.324, 13804.745, 12923.2295, 12311.564, 12611.428, 12224.185, 11310.3125, 12206.752, 12244.577, 11775.274, 11886.434, 12131.768, 12666.098, 12821.748, 12436.476, 12681.3, 12498.384, 12501.969, 12817.184, 12331.037, 11610.616, 11496.805, 11585.138, 11484.235, 11661.361, 11881.015, 12437.402, 11850.925, 11588.969, 11301.914, 10096.785, 9185.588, 9719.194, 9424.71, 9363.957, 9092.478, 9425.573, 9477.275, 9932.176, 9907.489, 10220.531, 10107.457, 9755.526, 9918.336, 9769.482, 9995.567, 9924.418, 9857.168, 9119.535, 9108.421, 9231.419, 9617.018, 9658.574, 9735.09, 9621.285, 9448.517, 9312.029, 9493.791, 9073.572, 9036.583, 9092.52, 9071.672, 8834.174, 9415.195, 9495.977, 9930.78, 10105.858, 10013.387, 11167.708, 11820.4, 11619.133, 11628.743, 12064.842, 12445.785, 12491.925, 12838.859, 12758.678, 12425.167, 12413.264, 12260.837, 12314.573, 12060.117, 11999.643, 12692.905, 12687.261, 12374.535, 11771.258, 11731.106, 11808.002, 11808.088, 10990.282, 11584.875, 11326.683, 11314.197, 11787.183, 12027.521, 11432.113, 10943.215, 11243.03, 11224.086, 11074.215, 10975.963, 10804.396, 10603.346, 10857.034, 10746.546, 10961.104, 10595.424, 10520.456, 10867.817, 10885.107, 10795.159, 10311.334, 9556.887, 9357.596, 9777.762, 9302.038, 9627.735, 9699.71, 9701.086, 9581.729, 9730.566, 9909.601, 10159.899, 10777.315, 10533.986, 10342.844, 10298.828, 10470.519, 10610.191, 10760.005, 10364.052, 10416.801, 9978.668, 9604.149, 10020.9, 9995.512, 9886.6875, 10094.559, 9842.715, 9702.485, 9604.708, 8897.201, 8756.986, 8290.217, 7243.6777, 7515.9053, 7179.4673, 8054.7173, 7891.334, 7943.3633, 7688.978, 8106.0264, 8146.2197, 8082.5474, 7818.9434, 7971.9336, 7943.5137, 7929.514, 7920.368, 7880.658, 8398.342, 8371.158, 8758.482, 8737.759, 8647.307, 8362.625, 7787.9355, 7827.823, 7804.9634, 7816.448, 7826.0127, 7454.1807, 7878.1504, 7631.1455, 7766.3086, 7543.0684, 7142.9287, 7398.137, 7474.81, 7730.181, 7773.8623, 7694.407, 7777.5684, 8015.7847, 7931.649, 7744.097, 7629.62, 7749.043, 7763.8184, 8082.0815, 8226.554, 8333.154, 8179.8066, 8371.949, 8568.836, 8402.853, 8737.948, 8981.519, 8938.55, 8804.396, 8575.749, 8140.9634, 7842.938, 7691.085, 7940.855, 7971.1807, 8093.4834, 8137.296, 8059.128, 7920.3184, 8174.746, 8295.826, 8450.485, 8231.758, 8734.648, 8612.816, 8569.604, 8447.664, 8600.463, 8565.912, 8938.962, 8807.646, 8852.072, 8569.687, 8603.574, 8230.542, 8274.344, 8332.594, 8497.644, 8788.941, 9019.781, 8449.54, 8407.8545, 8276.316, 8071.524, 7813.798, 8072.5796, 9384.955, 9665.834, 9953.003, 10378.051, 10575.762, 10866.087, 10591.306, 10347.48, 9830.1045, 10108.368, 10506.449, 10136.58, 10728.186, 10559.39, 10275.646, 11018.263, 11410.337, 11958.888, 12030.232, 12165.283, 11846.266, 13393.967, 12934.419, 12977.992, 13387.444, 13409.014, 14581.441, 14695.269, 15316.426, 14926.802, 16414.396, 16346.492, 16628.426, 15080.065, 14502.047, 15660.4375, 16678.902, 16700.629, 16454.703, 16652.566, 16617.07, 16188.501, 14946.703, 13639.109, 13973.79, 13504.266, 13515.723, 14185.828, 14628.89, 14239.82, 13521.316, 13353.768, 13682.936, 13228.762, 13311.682, 13116.295]}}\n"
     ]
    }
   ],
   "source": [
    "UBAH_results = {\n",
    "    \"train\": {},\n",
    "    \"trade\": {},\n",
    "}\n",
    "\n",
    "PORTFOLIO_SIZE = len(df_portfolio[\"ticker\"].unique())\n",
    "\n",
    "# train period\n",
    "terminated = False\n",
    "environment.reset()\n",
    "while not terminated:\n",
    "    action = [0] + [1/PORTFOLIO_SIZE] * PORTFOLIO_SIZE\n",
    "    _, _, terminated, _ = environment.step(action)\n",
    "UBAH_results[\"train\"][\"value\"] = environment._asset_memory[\"final\"]\n",
    "\n",
    "# trade perid\n",
    "terminated = False\n",
    "environment_trade.reset()\n",
    "while not terminated:\n",
    "    action = [0] + [1/PORTFOLIO_SIZE] * PORTFOLIO_SIZE\n",
    "    _, _, terminated, _ = environment_trade.step(action)\n",
    "UBAH_results[\"trade\"][\"value\"] = environment_trade._asset_memory[\"final\"]\n",
    "\n",
    "print(UBAH_results)\n"
   ]
  },
  {
   "cell_type": "markdown",
   "metadata": {
    "id": "kBMM7hAHC6rq"
   },
   "source": [
    "### Compare buy-and-hold vs strategy performance in training period"
   ]
  },
  {
   "cell_type": "code",
   "execution_count": 64,
   "metadata": {
    "id": "n8YrDNpeC71w"
   },
   "outputs": [
    {
     "data": {
      "image/png": "[encoded data removed]",
      "text/plain": [
       "<Figure size 1000x600 with 1 Axes>"
      ]
     },
     "metadata": {},
     "output_type": "display_data"
    }
   ],
   "source": [
    "import matplotlib.pyplot as plt\n",
    "%matplotlib inline \n",
    "\n",
    "plt.plot(UBAH_results[\"train\"][\"value\"], label=\"Buy and Hold\")\n",
    "plt.plot(EIIE_results[\"training\"], label=\"EIIE\")\n",
    "\n",
    "plt.xlabel(\"Days\")\n",
    "plt.ylabel(\"Portfolio Value\")\n",
    "plt.title(\"Performance in training period\")\n",
    "plt.legend()\n",
    "\n",
    "plt.show()"
   ]
  },
  {
   "cell_type": "markdown",
   "metadata": {},
   "source": [
    "# Compare buy and hold vs. strategy performance in trade period"
   ]
  },
  {
   "cell_type": "code",
   "execution_count": 62,
   "metadata": {
    "id": "dQniascoDIH2"
   },
   "outputs": [
    {
     "ename": "KeyError",
     "evalue": "'2020'",
     "output_type": "error",
     "traceback": [
      "\u001b[0;31m---------------------------------------------------------------------------\u001b[0m",
      "\u001b[0;31mKeyError\u001b[0m                                  Traceback (most recent call last)",
      "Cell \u001b[0;32mIn[62], line 1\u001b[0m\n\u001b[0;32m----> 1\u001b[0m plt\u001b[38;5;241m.\u001b[39mplot(\u001b[43mUBAH_results\u001b[49m\u001b[43m[\u001b[49m\u001b[38;5;124;43m\"\u001b[39;49m\u001b[38;5;124;43m2020\u001b[39;49m\u001b[38;5;124;43m\"\u001b[39;49m\u001b[43m]\u001b[49m[\u001b[38;5;124m\"\u001b[39m\u001b[38;5;124mvalue\u001b[39m\u001b[38;5;124m\"\u001b[39m], label\u001b[38;5;241m=\u001b[39m\u001b[38;5;124m\"\u001b[39m\u001b[38;5;124mBuy and Hold\u001b[39m\u001b[38;5;124m\"\u001b[39m)\n\u001b[1;32m      2\u001b[0m plt\u001b[38;5;241m.\u001b[39mplot(EIIE_results[\u001b[38;5;124m\"\u001b[39m\u001b[38;5;124m2020\u001b[39m\u001b[38;5;124m\"\u001b[39m][\u001b[38;5;124m\"\u001b[39m\u001b[38;5;124mvalue\u001b[39m\u001b[38;5;124m\"\u001b[39m], label\u001b[38;5;241m=\u001b[39m\u001b[38;5;124m\"\u001b[39m\u001b[38;5;124mEIIE\u001b[39m\u001b[38;5;124m\"\u001b[39m)\n\u001b[1;32m      4\u001b[0m plt\u001b[38;5;241m.\u001b[39mxlabel(\u001b[38;5;124m\"\u001b[39m\u001b[38;5;124mDays\u001b[39m\u001b[38;5;124m\"\u001b[39m)\n",
      "\u001b[0;31mKeyError\u001b[0m: '2020'"
     ]
    }
   ],
   "source": [
    "plt.plot(UBAH_results[\"2020\"][\"value\"], label=\"Buy and Hold\")\n",
    "plt.plot(EIIE_results[\"2020\"][\"value\"], label=\"EIIE\")\n",
    "\n",
    "plt.xlabel(\"Days\")\n",
    "plt.ylabel(\"Portfolio Value\")\n",
    "plt.title(\"Performance in 2020\")\n",
    "plt.legend()\n",
    "\n",
    "plt.show()"
   ]
  },
  {
   "cell_type": "code",
   "execution_count": 65,
   "metadata": {
    "id": "1hJtnW7QDIt2"
   },
   "outputs": [
    {
     "data": {
      "image/png": "[encoded data removed]",
      "text/plain": [
       "<Figure size 1000x600 with 1 Axes>"
      ]
     },
     "metadata": {},
     "output_type": "display_data"
    }
   ],
   "source": [
    "plt.plot(UBAH_results[\"trade\"][\"value\"], label=\"Buy and Hold\")\n",
    "plt.plot(EIIE_results[\"trade\"][\"value\"], label=\"EIIE\")\n",
    "\n",
    "plt.xlabel(\"Days\")\n",
    "plt.ylabel(\"Portfolio Value\")\n",
    "plt.title(\"Performance in 2021\")\n",
    "plt.legend()\n",
    "\n",
    "plt.show()"
   ]
  }
 ],
 "metadata": {
  "accelerator": "GPU",
  "colab": {
   "gpuType": "T4",
   "provenance": []
  },
  "kernelspec": {
   "display_name": ".venv",
   "language": "python",
   "name": "python3"
  },
  "language_info": {
   "codemirror_mode": {
    "name": "ipython",
    "version": 3
   },
   "file_extension": ".py",
   "mimetype": "text/x-python",
   "name": "python",
   "nbconvert_exporter": "python",
   "pygments_lexer": "ipython3",
   "version": "3.11.10"
  },
  "widgets": {
   "application/vnd.jupyter.widget-state+json": {
    "1f84695a1caf4c80b29eb5eea90bb29a": {
     "model_module": "@jupyter-widgets/base",
     "model_module_version": "1.2.0",
     "model_name": "LayoutModel",
     "state": {
      "_model_module": "@jupyter-widgets/base",
      "_model_module_version": "1.2.0",
      "_model_name": "LayoutModel",
      "_view_count": null,
      "_view_module": "@jupyter-widgets/base",
      "_view_module_version": "1.2.0",
      "_view_name": "LayoutView",
      "align_content": null,
      "align_items": null,
      "align_self": null,
      "border": null,
      "bottom": null,
      "display": null,
      "flex": null,
      "flex_flow": null,
      "grid_area": null,
      "grid_auto_columns": null,
      "grid_auto_flow": null,
      "grid_auto_rows": null,
      "grid_column": null,
      "grid_gap": null,
      "grid_row": null,
      "grid_template_areas": null,
      "grid_template_columns": null,
      "grid_template_rows": null,
      "height": null,
      "justify_content": null,
      "justify_items": null,
      "left": null,
      "margin": null,
      "max_height": null,
      "max_width": null,
      "min_height": null,
      "min_width": null,
      "object_fit": null,
      "object_position": null,
      "order": null,
      "overflow": null,
      "overflow_x": null,
      "overflow_y": null,
      "padding": null,
      "right": null,
      "top": null,
      "visibility": null,
      "width": null
     }
    },
    "317393fb13c0449abfff29a4949553a0": {
     "model_module": "@jupyter-widgets/controls",
     "model_module_version": "1.5.0",
     "model_name": "HTMLModel",
     "state": {
      "_dom_classes": [],
      "_model_module": "@jupyter-widgets/controls",
      "_model_module_version": "1.5.0",
      "_model_name": "HTMLModel",
      "_view_count": null,
      "_view_module": "@jupyter-widgets/controls",
      "_view_module_version": "1.5.0",
      "_view_name": "HTMLView",
      "description": "",
      "description_tooltip": null,
      "layout": "IPY_MODEL_1f84695a1caf4c80b29eb5eea90bb29a",
      "placeholder": "​",
      "style": "IPY_MODEL_a7a6884bfdb642b9b342f7cda49d7d67",
      "value": " 10/250 [05:53&lt;2:10:07, 32.53s/it]"
     }
    },
    "4b2aa7128c5d4d15bb794eb76faccd6a": {
     "model_module": "@jupyter-widgets/controls",
     "model_module_version": "1.5.0",
     "model_name": "FloatProgressModel",
     "state": {
      "_dom_classes": [],
      "_model_module": "@jupyter-widgets/controls",
      "_model_module_version": "1.5.0",
      "_model_name": "FloatProgressModel",
      "_view_count": null,
      "_view_module": "@jupyter-widgets/controls",
      "_view_module_version": "1.5.0",
      "_view_name": "ProgressView",
      "bar_style": "danger",
      "description": "",
      "description_tooltip": null,
      "layout": "IPY_MODEL_6a1187acb99d44c68e27cd5aad879ff1",
      "max": 250,
      "min": 0,
      "orientation": "horizontal",
      "style": "IPY_MODEL_6a5c9dbaddc441d390d4827c170cbe9c",
      "value": 10
     }
    },
    "6a1187acb99d44c68e27cd5aad879ff1": {
     "model_module": "@jupyter-widgets/base",
     "model_module_version": "1.2.0",
     "model_name": "LayoutModel",
     "state": {
      "_model_module": "@jupyter-widgets/base",
      "_model_module_version": "1.2.0",
      "_model_name": "LayoutModel",
      "_view_count": null,
      "_view_module": "@jupyter-widgets/base",
      "_view_module_version": "1.2.0",
      "_view_name": "LayoutView",
      "align_content": null,
      "align_items": null,
      "align_self": null,
      "border": null,
      "bottom": null,
      "display": null,
      "flex": null,
      "flex_flow": null,
      "grid_area": null,
      "grid_auto_columns": null,
      "grid_auto_flow": null,
      "grid_auto_rows": null,
      "grid_column": null,
      "grid_gap": null,
      "grid_row": null,
      "grid_template_areas": null,
      "grid_template_columns": null,
      "grid_template_rows": null,
      "height": null,
      "justify_content": null,
      "justify_items": null,
      "left": null,
      "margin": null,
      "max_height": null,
      "max_width": null,
      "min_height": null,
      "min_width": null,
      "object_fit": null,
      "object_position": null,
      "order": null,
      "overflow": null,
      "overflow_x": null,
      "overflow_y": null,
      "padding": null,
      "right": null,
      "top": null,
      "visibility": null,
      "width": null
     }
    },
    "6a5c9dbaddc441d390d4827c170cbe9c": {
     "model_module": "@jupyter-widgets/controls",
     "model_module_version": "1.5.0",
     "model_name": "ProgressStyleModel",
     "state": {
      "_model_module": "@jupyter-widgets/controls",
      "_model_module_version": "1.5.0",
      "_model_name": "ProgressStyleModel",
      "_view_count": null,
      "_view_module": "@jupyter-widgets/base",
      "_view_module_version": "1.2.0",
      "_view_name": "StyleView",
      "bar_color": null,
      "description_width": ""
     }
    },
    "750b2ea28d2a439db3fc5034927dbce2": {
     "model_module": "@jupyter-widgets/controls",
     "model_module_version": "1.5.0",
     "model_name": "HBoxModel",
     "state": {
      "_dom_classes": [],
      "_model_module": "@jupyter-widgets/controls",
      "_model_module_version": "1.5.0",
      "_model_name": "HBoxModel",
      "_view_count": null,
      "_view_module": "@jupyter-widgets/controls",
      "_view_module_version": "1.5.0",
      "_view_name": "HBoxView",
      "box_style": "",
      "children": [
       "IPY_MODEL_c172e120fc5e4f9ab13bf8599d868b5f",
       "IPY_MODEL_4b2aa7128c5d4d15bb794eb76faccd6a",
       "IPY_MODEL_317393fb13c0449abfff29a4949553a0"
      ],
      "layout": "IPY_MODEL_8cb75a82e5374c51b1f47a6e15783177"
     }
    },
    "8cb75a82e5374c51b1f47a6e15783177": {
     "model_module": "@jupyter-widgets/base",
     "model_module_version": "1.2.0",
     "model_name": "LayoutModel",
     "state": {
      "_model_module": "@jupyter-widgets/base",
      "_model_module_version": "1.2.0",
      "_model_name": "LayoutModel",
      "_view_count": null,
      "_view_module": "@jupyter-widgets/base",
      "_view_module_version": "1.2.0",
      "_view_name": "LayoutView",
      "align_content": null,
      "align_items": null,
      "align_self": null,
      "border": null,
      "bottom": null,
      "display": null,
      "flex": null,
      "flex_flow": null,
      "grid_area": null,
      "grid_auto_columns": null,
      "grid_auto_flow": null,
      "grid_auto_rows": null,
      "grid_column": null,
      "grid_gap": null,
      "grid_row": null,
      "grid_template_areas": null,
      "grid_template_columns": null,
      "grid_template_rows": null,
      "height": null,
      "justify_content": null,
      "justify_items": null,
      "left": null,
      "margin": null,
      "max_height": null,
      "max_width": null,
      "min_height": null,
      "min_width": null,
      "object_fit": null,
      "object_position": null,
      "order": null,
      "overflow": null,
      "overflow_x": null,
      "overflow_y": null,
      "padding": null,
      "right": null,
      "top": null,
      "visibility": null,
      "width": null
     }
    },
    "9cb3d937be5d4f7cac192b392218ef37": {
     "model_module": "@jupyter-widgets/base",
     "model_module_version": "1.2.0",
     "model_name": "LayoutModel",
     "state": {
      "_model_module": "@jupyter-widgets/base",
      "_model_module_version": "1.2.0",
      "_model_name": "LayoutModel",
      "_view_count": null,
      "_view_module": "@jupyter-widgets/base",
      "_view_module_version": "1.2.0",
      "_view_name": "LayoutView",
      "align_content": null,
      "align_items": null,
      "align_self": null,
      "border": null,
      "bottom": null,
      "display": null,
      "flex": null,
      "flex_flow": null,
      "grid_area": null,
      "grid_auto_columns": null,
      "grid_auto_flow": null,
      "grid_auto_rows": null,
      "grid_column": null,
      "grid_gap": null,
      "grid_row": null,
      "grid_template_areas": null,
      "grid_template_columns": null,
      "grid_template_rows": null,
      "height": null,
      "justify_content": null,
      "justify_items": null,
      "left": null,
      "margin": null,
      "max_height": null,
      "max_width": null,
      "min_height": null,
      "min_width": null,
      "object_fit": null,
      "object_position": null,
      "order": null,
      "overflow": null,
      "overflow_x": null,
      "overflow_y": null,
      "padding": null,
      "right": null,
      "top": null,
      "visibility": null,
      "width": null
     }
    },
    "a7a6884bfdb642b9b342f7cda49d7d67": {
     "model_module": "@jupyter-widgets/controls",
     "model_module_version": "1.5.0",
     "model_name": "DescriptionStyleModel",
     "state": {
      "_model_module": "@jupyter-widgets/controls",
      "_model_module_version": "1.5.0",
      "_model_name": "DescriptionStyleModel",
      "_view_count": null,
      "_view_module": "@jupyter-widgets/base",
      "_view_module_version": "1.2.0",
      "_view_name": "StyleView",
      "description_width": ""
     }
    },
    "b27b9cc333ac44a5bb2cec60d02f16c0": {
     "model_module": "@jupyter-widgets/controls",
     "model_module_version": "1.5.0",
     "model_name": "DescriptionStyleModel",
     "state": {
      "_model_module": "@jupyter-widgets/controls",
      "_model_module_version": "1.5.0",
      "_model_name": "DescriptionStyleModel",
      "_view_count": null,
      "_view_module": "@jupyter-widgets/base",
      "_view_module_version": "1.2.0",
      "_view_name": "StyleView",
      "description_width": ""
     }
    },
    "c172e120fc5e4f9ab13bf8599d868b5f": {
     "model_module": "@jupyter-widgets/controls",
     "model_module_version": "1.5.0",
     "model_name": "HTMLModel",
     "state": {
      "_dom_classes": [],
      "_model_module": "@jupyter-widgets/controls",
      "_model_module_version": "1.5.0",
      "_model_name": "HTMLModel",
      "_view_count": null,
      "_view_module": "@jupyter-widgets/controls",
      "_view_module_version": "1.5.0",
      "_view_name": "HTMLView",
      "description": "",
      "description_tooltip": null,
      "layout": "IPY_MODEL_9cb3d937be5d4f7cac192b392218ef37",
      "placeholder": "​",
      "style": "IPY_MODEL_b27b9cc333ac44a5bb2cec60d02f16c0",
      "value": "  4%"
     }
    }
   }
  }
 },
 "nbformat": 4,
 "nbformat_minor": 1
}
