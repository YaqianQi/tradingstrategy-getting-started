{
 "cells": [
  {
   "cell_type": "code",
   "execution_count": 5,
   "metadata": {},
   "outputs": [
    {
     "data": {
      "application/vnd.jupyter.widget-view+json": {
       "model_id": "e95a775898cb4612a9515967f51e3a28",
       "version_major": 2,
       "version_minor": 0
      },
      "text/plain": [
       "Downloading candlestick data for BTCUSDT:   0%|          | 0/41 [00:00<?, ?iteration/s]"
      ]
     },
     "metadata": {},
     "output_type": "display_data"
    }
   ],
   "source": [
    "from tradingstrategy.timebucket import TimeBucket\n",
    "from tradingstrategy.binance.downloader import BinanceDownloader\n",
    "import datetime\n",
    "\n",
    "downloader = BinanceDownloader()\n",
    "df = downloader.fetch_candlestick_data(\n",
    "    [\"BTCUSDT\"],\n",
    "    TimeBucket.m15,\n",
    "    datetime.datetime(2024, 1, 1),\n",
    "    datetime.datetime(2025, 3, 1),\n",
    "    )\n",
    "\n",
    "# Show a candle for both BTC and ETH\n",
    "# assert df.iloc[0].to_json() == '{\"open\":7195.24,\"high\":7255.0,\"low\":7175.15,\"close\":7200.85,\"volume\":16792.388165,\"pair_id\":\"BTCUSDT\"}'\n",
    "# assert df.iloc[-1].to_json() == '{\"open\":2281.87,\"high\":2352.37,\"low\":2265.24,\"close\":2352.04,\"volume\":216702.6914,\"pair_id\":\"ETHUSDT\"}'"
   ]
  },
  {
   "cell_type": "code",
   "execution_count": 6,
   "metadata": {},
   "outputs": [
    {
     "data": {
      "text/html": [
       "<div>\n",
       "<style scoped>\n",
       "    .dataframe tbody tr th:only-of-type {\n",
       "        vertical-align: middle;\n",
       "    }\n",
       "\n",
       "    .dataframe tbody tr th {\n",
       "        vertical-align: top;\n",
       "    }\n",
       "\n",
       "    .dataframe thead th {\n",
       "        text-align: right;\n",
       "    }\n",
       "</style>\n",
       "<table border=\"1\" class=\"dataframe\">\n",
       "  <thead>\n",
       "    <tr style=\"text-align: right;\">\n",
       "      <th></th>\n",
       "      <th>open</th>\n",
       "      <th>high</th>\n",
       "      <th>low</th>\n",
       "      <th>close</th>\n",
       "      <th>volume</th>\n",
       "      <th>pair_id</th>\n",
       "    </tr>\n",
       "  </thead>\n",
       "  <tbody>\n",
       "    <tr>\n",
       "      <th>2024-01-01 00:00:00</th>\n",
       "      <td>42283.58</td>\n",
       "      <td>42488.09</td>\n",
       "      <td>42261.02</td>\n",
       "      <td>42488.00</td>\n",
       "      <td>431.71082</td>\n",
       "      <td>BTCUSDT</td>\n",
       "    </tr>\n",
       "    <tr>\n",
       "      <th>2024-01-01 00:15:00</th>\n",
       "      <td>42488.00</td>\n",
       "      <td>42554.57</td>\n",
       "      <td>42412.02</td>\n",
       "      <td>42419.73</td>\n",
       "      <td>392.24889</td>\n",
       "      <td>BTCUSDT</td>\n",
       "    </tr>\n",
       "    <tr>\n",
       "      <th>2024-01-01 00:30:00</th>\n",
       "      <td>42419.73</td>\n",
       "      <td>42447.82</td>\n",
       "      <td>42354.19</td>\n",
       "      <td>42441.32</td>\n",
       "      <td>319.90644</td>\n",
       "      <td>BTCUSDT</td>\n",
       "    </tr>\n",
       "  </tbody>\n",
       "</table>\n",
       "</div>"
      ],
      "text/plain": [
       "                         open      high       low     close     volume  \\\n",
       "2024-01-01 00:00:00  42283.58  42488.09  42261.02  42488.00  431.71082   \n",
       "2024-01-01 00:15:00  42488.00  42554.57  42412.02  42419.73  392.24889   \n",
       "2024-01-01 00:30:00  42419.73  42447.82  42354.19  42441.32  319.90644   \n",
       "\n",
       "                     pair_id  \n",
       "2024-01-01 00:00:00  BTCUSDT  \n",
       "2024-01-01 00:15:00  BTCUSDT  \n",
       "2024-01-01 00:30:00  BTCUSDT  "
      ]
     },
     "execution_count": 6,
     "metadata": {},
     "output_type": "execute_result"
    }
   ],
   "source": [
    "df.head(3)"
   ]
  },
  {
   "cell_type": "code",
   "execution_count": 7,
   "metadata": {},
   "outputs": [
    {
     "data": {
      "text/html": [
       "<div>\n",
       "<style scoped>\n",
       "    .dataframe tbody tr th:only-of-type {\n",
       "        vertical-align: middle;\n",
       "    }\n",
       "\n",
       "    .dataframe tbody tr th {\n",
       "        vertical-align: top;\n",
       "    }\n",
       "\n",
       "    .dataframe thead th {\n",
       "        text-align: right;\n",
       "    }\n",
       "</style>\n",
       "<table border=\"1\" class=\"dataframe\">\n",
       "  <thead>\n",
       "    <tr style=\"text-align: right;\">\n",
       "      <th></th>\n",
       "      <th>open</th>\n",
       "      <th>high</th>\n",
       "      <th>low</th>\n",
       "      <th>close</th>\n",
       "      <th>volume</th>\n",
       "      <th>pair_id</th>\n",
       "    </tr>\n",
       "  </thead>\n",
       "  <tbody>\n",
       "    <tr>\n",
       "      <th>2025-02-28 23:30:00</th>\n",
       "      <td>84164.56</td>\n",
       "      <td>84431.05</td>\n",
       "      <td>84132.07</td>\n",
       "      <td>84400.01</td>\n",
       "      <td>127.49439</td>\n",
       "      <td>BTCUSDT</td>\n",
       "    </tr>\n",
       "    <tr>\n",
       "      <th>2025-02-28 23:45:00</th>\n",
       "      <td>84400.01</td>\n",
       "      <td>84548.43</td>\n",
       "      <td>84343.82</td>\n",
       "      <td>84349.94</td>\n",
       "      <td>256.84448</td>\n",
       "      <td>BTCUSDT</td>\n",
       "    </tr>\n",
       "    <tr>\n",
       "      <th>2025-03-01 00:00:00</th>\n",
       "      <td>84349.95</td>\n",
       "      <td>84536.52</td>\n",
       "      <td>84257.15</td>\n",
       "      <td>84536.52</td>\n",
       "      <td>100.10315</td>\n",
       "      <td>BTCUSDT</td>\n",
       "    </tr>\n",
       "  </tbody>\n",
       "</table>\n",
       "</div>"
      ],
      "text/plain": [
       "                         open      high       low     close     volume  \\\n",
       "2025-02-28 23:30:00  84164.56  84431.05  84132.07  84400.01  127.49439   \n",
       "2025-02-28 23:45:00  84400.01  84548.43  84343.82  84349.94  256.84448   \n",
       "2025-03-01 00:00:00  84349.95  84536.52  84257.15  84536.52  100.10315   \n",
       "\n",
       "                     pair_id  \n",
       "2025-02-28 23:30:00  BTCUSDT  \n",
       "2025-02-28 23:45:00  BTCUSDT  \n",
       "2025-03-01 00:00:00  BTCUSDT  "
      ]
     },
     "execution_count": 7,
     "metadata": {},
     "output_type": "execute_result"
    }
   ],
   "source": [
    "df.tail(3)"
   ]
  },
  {
   "cell_type": "code",
   "execution_count": 8,
   "metadata": {},
   "outputs": [],
   "source": [
    "df.to_csv(\"btc-15min-barchart-20240101-20250301.csv\")"
   ]
  },
  {
   "cell_type": "code",
   "execution_count": null,
   "metadata": {},
   "outputs": [],
   "source": []
  }
 ],
 "metadata": {
  "kernelspec": {
   "display_name": "Python 3",
   "language": "python",
   "name": "python3"
  },
  "language_info": {
   "codemirror_mode": {
    "name": "ipython",
    "version": 3
   },
   "file_extension": ".py",
   "mimetype": "text/x-python",
   "name": "python",
   "nbconvert_exporter": "python",
   "pygments_lexer": "ipython3",
   "version": "3.11.4"
  }
 },
 "nbformat": 4,
 "nbformat_minor": 2
}
